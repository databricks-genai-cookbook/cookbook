{
 "cells": [
  {
   "cell_type": "markdown",
   "metadata": {},
   "source": [
    "# Fast Classification with Provisioned Throughput\n",
    "\n",
    "This notebook shows how to use the [Provisioned Throughput Foundation Model APIs](https://docs.databricks.com/en/machine-learning/foundation-models/deploy-prov-throughput-foundation-model-apis.html#provisioned-throughput-foundation-model-apis) for a high-throughput classification task. In particular, we will use the mpt-30b-instruct model to classify the emotions of short texts.\n",
    "\n",
    "## Getting Started: Create a Provisioned Throughput Serving Endpoint\n",
    "\n",
    "To get started, follow the instructions [here](https://docs.databricks.com/en/machine-learning/foundation-models/deploy-prov-throughput-foundation-model-apis.html#create-your-provisioned-throughput-endpoint-using-the-ui) to create a provisioned throughput serving endpoint. You can [get the model from the Databricks Marketplace](https://www.databricks.com/blog/introducing-ai-model-sharing-databricks): navigate to \"Marketplace\" in your databricks workspace and search for \"MPT Models.\" You can save the models to a catalog in your workspace, and then that model using the provisioned throughput instructions linked above. Note that setting up the endpoint may take a few minutes.\n",
    "\n",
    "The rest of this notebook assumes you have set up the provisioned throughput endpoint. Note that the final results of this notebook will depend on the tokens per second limit configured when setting up the provisioned throughput endpoint.\n",
    "\n",
    "## Classification Example\n",
    "\n",
    "This example will use mpt-30b-instruct to classify the emotions of the texts in the [DAIR AI Emotion dataset](https://huggingface.co/datasets/dair-ai/emotion). The focus of this example is throughput: there will be room left to improve on the classification component of this example through tweaking the prompt, model parameters, and model choice.\n",
    "\n",
    "### Set up libraries and Environment Variables"
   ]
  },
  {
   "cell_type": "code",
   "execution_count": null,
   "metadata": {
    "application/vnd.databricks.v1+cell": {
     "cellMetadata": {
      "byteLimit": 2048000,
      "rowLimit": 10000
     },
     "inputWidgets": {},
     "nuid": "69589d4d-de2e-44bc-9524-38bd5fed438c",
     "showTitle": false,
     "title": ""
    }
   },
   "outputs": [],
   "source": [
    "# Upgrade to use the newest Databricks SDK\n",
    "%pip install --upgrade aiohttp tqdm datasets\n",
    "dbutils.library.restartPython()"
   ]
  },
  {
   "cell_type": "code",
   "execution_count": null,
   "metadata": {
    "application/vnd.databricks.v1+cell": {
     "cellMetadata": {
      "byteLimit": 2048000,
      "rowLimit": 10000
     },
     "inputWidgets": {},
     "nuid": "e1cddcac-4769-4932-9c64-a0d49c54c471",
     "showTitle": false,
     "title": ""
    }
   },
   "outputs": [],
   "source": [
    "# Get the API endpoint and token for the current notebook context\n",
    "API_ROOT = dbutils.notebook.entry_point.getDbutils().notebook().getContext().apiUrl().get() \n",
    "API_TOKEN = dbutils.notebook.entry_point.getDbutils().notebook().getContext().apiToken().get()\n",
    "endpoint_name = \"<your-endpoint-name>\""
   ]
  },
  {
   "cell_type": "markdown",
   "metadata": {},
   "source": [
    "### Load the dataset"
   ]
  },
  {
   "cell_type": "code",
   "execution_count": null,
   "metadata": {
    "application/vnd.databricks.v1+cell": {
     "cellMetadata": {
      "byteLimit": 2048000,
      "rowLimit": 10000
     },
     "inputWidgets": {},
     "nuid": "c6558865-6006-4655-9d5a-21e13ceb9d5a",
     "showTitle": false,
     "title": ""
    }
   },
   "outputs": [],
   "source": [
    "from datasets import load_dataset\n",
    "\n",
    "emotion = load_dataset(\"dair-ai/emotion\", cache_dir=\"/Volumes/daniel_liden/examples/datasets\")\n",
    "emotion_messages = emotion['train']['text']\n",
    "\n",
    "complete_prompts = []\n",
    "prompt_template = \"\"\"Your task is to classify the emotion of the provided message. Only use one of the specified emotions for your classification. The valid classifications are: JOY, SADNESS, ANGER, FEAR, LOVE, SURPRISE. No other classifications will be accepted. Even if none of these seems like a perfect fit, pick the closest one.\n",
    "\n",
    "### Instruction:\n",
    "Read the message below and classify its emotion:\n",
    "\n",
    "<message>{}</message>\n",
    "\n",
    "Expected Format:\n",
    "Respond with the emotion in the following format only:\n",
    "\n",
    "EMOTION\n",
    "\n",
    "Do not include any explanation or additional text.\n",
    "\n",
    "### Examples:\n",
    "- Message: \"I was shocked by the testimony!\"\n",
    "  Response: SURPRISE\n",
    "\n",
    "- Message: \"I don't know how I'm ever going to move on after my team's loss...\"\n",
    "  Response: SADNESS\n",
    "\n",
    "Ensure your response strictly follows the given format and only uses one of the specified emotion classifications.\n",
    "### Response:\\n\"\"\"\n",
    "\n",
    "# Loop through each message in the emotion_messages list\n",
    "for message in emotion_messages:\n",
    "    formatted_prompt = prompt_template.format(message)\n",
    "    complete_prompts.append(formatted_prompt)\n"
   ]
  },
  {
   "cell_type": "markdown",
   "metadata": {
    "application/vnd.databricks.v1+cell": {
     "cellMetadata": {
      "byteLimit": 2048000,
      "rowLimit": 10000
     },
     "inputWidgets": {},
     "nuid": "7d5ebd4e-f6a0-45a9-b73b-43fb46666bc9",
     "showTitle": false,
     "title": ""
    }
   },
   "source": [
    "### Configure API calls with aiohttp\n",
    "To improve throughput, we use the [aiohttp](https://docs.aiohttp.org/en/stable/) library to make API calls concurrently."
   ]
  },
  {
   "cell_type": "code",
   "execution_count": null,
   "metadata": {
    "application/vnd.databricks.v1+cell": {
     "cellMetadata": {
      "byteLimit": 2048000,
      "rowLimit": 10000
     },
     "inputWidgets": {},
     "nuid": "b5fc9979-957c-42f8-9463-fe77164cebdb",
     "showTitle": false,
     "title": ""
    }
   },
   "outputs": [],
   "source": [
    "import aiohttp\n",
    "import asyncio\n",
    "import time\n",
    "import statistics\n",
    "from tqdm.asyncio import tqdm  # Import tqdm for asyncio\n",
    "\n",
    "\n",
    "# Placeholder variables for endpoint and headers\n",
    "endpoint_url = f\"{API_ROOT}/serving-endpoints/{endpoint_name}/invocations\"\n",
    "headers = {\n",
    "    \"Content-Type\": \"text/json\",\n",
    "    \"Authorization\": f\"Bearer {API_TOKEN}\"\n",
    "}\n",
    "\n",
    "latencies = []\n",
    "data = []\n",
    "\n",
    "async def worker(index, prompt, concurrency_semaphore):\n",
    "    async with concurrency_semaphore:  # Use the passed semaphore for concurrency control\n",
    "        input_data = {\n",
    "            \"inputs\": {\n",
    "                \"prompt\": [prompt]\n",
    "            },\n",
    "            \"params\": {\n",
    "                \"max_tokens\": 10,\n",
    "                \"temperature\": 0.2,\n",
    "                \"top_p\": 0.1\n",
    "            }\n",
    "        }\n",
    "\n",
    "        request_start_time = time.time()\n",
    "        \n",
    "        try:\n",
    "            timeout = aiohttp.ClientTimeout(total=3 * 3600)\n",
    "            async with aiohttp.ClientSession(timeout=timeout) as session:\n",
    "                async with session.post(endpoint_url, headers=headers, json=input_data) as response:\n",
    "                    if response.ok:\n",
    "                        response_data = await response.json()\n",
    "                        latency = time.time() - request_start_time\n",
    "                        latencies.append(latency)\n",
    "                        data.append(response_data)\n",
    "                    else:\n",
    "                        error_response = await response.text()\n",
    "                        print(f\"Request failed, status: {response.status}, error: {error_response}\")\n",
    "        except Exception as e:\n",
    "            print(f\"An error occurred: {e}\")\n",
    "\n",
    "async def process_prompts(complete_prompts, num_concurrent_calls):\n",
    "    concurrency_semaphore = asyncio.Semaphore(num_concurrent_calls)  # Create semaphore based on num_concurrent_calls\n",
    "    tasks = [worker(i, prompt, concurrency_semaphore) for i, prompt in enumerate(complete_prompts)]\n",
    "    for task in tqdm(asyncio.as_completed(tasks), total=len(tasks), desc=\"Generating Data\"):\n",
    "        await task\n",
    "\n",
    "async def main(complete_prompts, num_concurrent_calls=15):  # Default concurrency level set to 15\n",
    "    print(\"Starting data generation...\")\n",
    "    await process_prompts(complete_prompts, num_concurrent_calls)\n",
    "    if latencies:\n",
    "        median_latency = statistics.median(latencies)\n",
    "        print(f\"Median latency (s): {median_latency}\")\n",
    "    else:\n",
    "        print(\"No data collected.\")\n"
   ]
  },
  {
   "cell_type": "markdown",
   "metadata": {},
   "source": [
    "Here is a quick overview of what the above functions do:\n",
    "\n",
    "- `worker(index, prompt, concurrency_semaphore)`: Executes a single asynchronous HTTP POST request using a provided prompt and a [concurrency semaphore](https://docs.python.org/3/library/asyncio-sync.html#asyncio.Semaphore) to control the rate of concurrent requests, recording latency and response data.\n",
    "\n",
    "- `process_prompts(complete_prompts, num_concurrent_calls)`: Distributes prompts among workers, enforcing concurrency limits with a semaphore, and tracks the completion of all tasks with progress output.\n",
    "\n",
    "- `main(complete_prompts, num_concurrent_calls=15)`: Initiates the process of generating data by calling `process_prompts` with the complete list of prompts and the specified number of concurrent calls, and summarizes the median latency upon completion.\n",
    "\n",
    "\n",
    "### Run the API Requests"
   ]
  },
  {
   "cell_type": "code",
   "execution_count": null,
   "metadata": {
    "application/vnd.databricks.v1+cell": {
     "cellMetadata": {
      "byteLimit": 2048000,
      "rowLimit": 10000
     },
     "inputWidgets": {},
     "nuid": "557d34a2-b966-4ab9-b70a-665fa30ec53e",
     "showTitle": false,
     "title": ""
    }
   },
   "outputs": [
    {
     "name": "stdout",
     "output_type": "stream",
     "text": [
      "Starting data generation...\n"
     ]
    },
    {
     "name": "stderr",
     "output_type": "stream",
     "text": [
      "\rGenerating Data:   0%|          | 0/16000 [00:00<?, ?it/s]\rGenerating Data:   0%|          | 1/16000 [00:00<3:08:32,  1.41it/s]\rGenerating Data:   0%|          | 7/16000 [00:00<25:36, 10.41it/s]  \rGenerating Data:   0%|          | 10/16000 [00:01<20:53, 12.75it/s]\rGenerating Data:   0%|          | 15/16000 [00:01<13:39, 19.50it/s]\rGenerating Data:   0%|          | 19/16000 [00:01<12:38, 21.08it/s]\rGenerating Data:   0%|          | 23/16000 [00:01<12:44, 20.90it/s]\rGenerating Data:   0%|          | 29/16000 [00:01<09:22, 28.39it/s]\rGenerating Data:   0%|          | 33/16000 [00:01<10:33, 25.21it/s]\rGenerating Data:   0%|          | 38/16000 [00:01<09:08, 29.11it/s]\rGenerating Data:   0%|          | 42/16000 [00:02<09:57, 26.72it/s]\rGenerating Data:   0%|          | 47/16000 [00:02<10:03, 26.45it/s]\rGenerating Data:   0%|          | 50/16000 [00:02<09:57, 26.69it/s]\rGenerating Data:   0%|          | 55/16000 [00:02<09:11, 28.91it/s]\rGenerating Data:   0%|          | 59/16000 [00:02<09:06, 29.16it/s]\rGenerating Data:   0%|          | 63/16000 [00:02<09:41, 27.39it/s]\rGenerating Data:   0%|          | 67/16000 [00:02<09:03, 29.30it/s]\rGenerating Data:   0%|          | 71/16000 [00:03<09:14, 28.71it/s]\rGenerating Data:   0%|          | 74/16000 [00:03<09:39, 27.49it/s]\rGenerating Data:   0%|          | 77/16000 [00:03<10:01, 26.45it/s]\rGenerating Data:   1%|          | 81/16000 [00:03<09:32, 27.81it/s]\rGenerating Data:   1%|          | 84/16000 [00:03<10:05, 26.27it/s]\rGenerating Data:   1%|          | 88/16000 [00:03<09:14, 28.70it/s]\rGenerating Data:   1%|          | 91/16000 [00:03<09:52, 26.87it/s]\rGenerating Data:   1%|          | 95/16000 [00:03<08:55, 29.73it/s]\rGenerating Data:   1%|          | 99/16000 [00:04<09:30, 27.85it/s]\rGenerating Data:   1%|          | 103/16000 [00:04<08:36, 30.79it/s]\rGenerating Data:   1%|          | 107/16000 [00:04<10:04, 26.27it/s]\rGenerating Data:   1%|          | 113/16000 [00:04<09:48, 27.02it/s]\rGenerating Data:   1%|          | 117/16000 [00:04<09:04, 29.15it/s]\rGenerating Data:   1%|          | 121/16000 [00:04<09:12, 28.75it/s]\rGenerating Data:   1%|          | 124/16000 [00:05<09:25, 28.06it/s]\rGenerating Data:   1%|          | 128/16000 [00:05<08:41, 30.42it/s]\rGenerating Data:   1%|          | 132/16000 [00:05<08:58, 29.47it/s]\rGenerating Data:   1%|          | 136/16000 [00:05<10:13, 25.87it/s]\rGenerating Data:   1%|          | 140/16000 [00:05<09:11, 28.77it/s]\rGenerating Data:   1%|          | 144/16000 [00:05<09:46, 27.05it/s]\rGenerating Data:   1%|          | 148/16000 [00:05<09:25, 28.03it/s]\rGenerating Data:   1%|          | 151/16000 [00:05<09:44, 27.13it/s]\rGenerating Data:   1%|          | 155/16000 [00:06<09:31, 27.72it/s]\rGenerating Data:   1%|          | 159/16000 [00:06<09:10, 28.76it/s]\rGenerating Data:   1%|          | 162/16000 [00:06<09:32, 27.66it/s]\rGenerating Data:   1%|          | 166/16000 [00:06<08:42, 30.28it/s]\rGenerating Data:   1%|          | 170/16000 [00:06<09:13, 28.59it/s]\rGenerating Data:   1%|          | 173/16000 [00:06<10:05, 26.16it/s]\rGenerating Data:   1%|          | 177/16000 [00:06<09:22, 28.14it/s]\rGenerating Data:   1%|          | 180/16000 [00:07<10:13, 25.79it/s]\rGenerating Data:   1%|          | 186/16000 [00:07<07:58, 33.04it/s]\rGenerating Data:   1%|          | 190/16000 [00:07<10:15, 25.70it/s]\rGenerating Data:   1%|          | 196/16000 [00:07<09:59, 26.35it/s]\rGenerating Data:   1%|▏         | 202/16000 [00:07<08:09, 32.28it/s]\rGenerating Data:   1%|▏         | 206/16000 [00:07<09:37, 27.34it/s]\rGenerating Data:   1%|▏         | 210/16000 [00:08<09:14, 28.46it/s]\rGenerating Data:   1%|▏         | 214/16000 [00:08<09:46, 26.93it/s]\rGenerating Data:   1%|▏         | 218/16000 [00:08<08:54, 29.54it/s]\rGenerating Data:   1%|▏         | 222/16000 [00:08<09:06, 28.85it/s]\rGenerating Data:   1%|▏         | 226/16000 [00:08<08:51, 29.70it/s]\rGenerating Data:   1%|▏         | 230/16000 [00:08<09:31, 27.57it/s]\rGenerating Data:   1%|▏         | 235/16000 [00:08<09:23, 27.95it/s]\rGenerating Data:   1%|▏         | 239/16000 [00:09<08:36, 30.54it/s]\rGenerating Data:   2%|▏         | 243/16000 [00:09<09:54, 26.50it/s]\rGenerating Data:   2%|▏         | 248/16000 [00:09<08:33, 30.69it/s]\rGenerating Data:   2%|▏         | 252/16000 [00:09<09:28, 27.72it/s]\rGenerating Data:   2%|▏         | 256/16000 [00:09<08:55, 29.40it/s]\rGenerating Data:   2%|▏         | 260/16000 [00:09<09:56, 26.40it/s]\rGenerating Data:   2%|▏         | 265/16000 [00:09<08:39, 30.27it/s]\rGenerating Data:   2%|▏         | 269/16000 [00:10<09:38, 27.19it/s]\rGenerating Data:   2%|▏         | 274/16000 [00:10<10:09, 25.80it/s]\rGenerating Data:   2%|▏         | 280/16000 [00:10<08:22, 31.25it/s]\rGenerating Data:   2%|▏         | 284/16000 [00:10<09:27, 27.70it/s]\rGenerating Data:   2%|▏         | 288/16000 [00:10<09:29, 27.58it/s]\rGenerating Data:   2%|▏         | 291/16000 [00:10<10:19, 25.37it/s]\rGenerating Data:   2%|▏         | 295/16000 [00:11<09:24, 27.83it/s]\rGenerating Data:   2%|▏         | 298/16000 [00:11<10:11, 25.68it/s]\rGenerating Data:   2%|▏         | 302/16000 [00:11<09:12, 28.41it/s]\rGenerating Data:   2%|▏         | 306/16000 [00:11<09:27, 27.67it/s]\rGenerating Data:   2%|▏         | 310/16000 [00:11<09:50, 26.58it/s]\rGenerating Data:   2%|▏         | 314/16000 [00:11<09:50, 26.55it/s]\rGenerating Data:   2%|▏         | 318/16000 [00:11<09:07, 28.66it/s]\rGenerating Data:   2%|▏         | 322/16000 [00:12<09:34, 27.31it/s]\rGenerating Data:   2%|▏         | 327/16000 [00:12<08:05, 32.28it/s]\rGenerating Data:   2%|▏         | 331/16000 [00:12<09:10, 28.46it/s]\rGenerating Data:   2%|▏         | 336/16000 [00:12<08:53, 29.34it/s]\rGenerating Data:   2%|▏         | 340/16000 [00:12<08:43, 29.93it/s]\rGenerating Data:   2%|▏         | 344/16000 [00:12<08:51, 29.47it/s]\rGenerating Data:   2%|▏         | 348/16000 [00:12<09:23, 27.76it/s]\rGenerating Data:   2%|▏         | 352/16000 [00:13<08:35, 30.34it/s]\rGenerating Data:   2%|▏         | 356/16000 [00:13<09:08, 28.51it/s]\rGenerating Data:   2%|▏         | 359/16000 [00:13<09:07, 28.56it/s]\rGenerating Data:   2%|▏         | 362/16000 [00:13<10:56, 23.83it/s]\rGenerating Data:   2%|▏         | 368/16000 [00:13<08:48, 29.55it/s]\rGenerating Data:   2%|▏         | 372/16000 [00:13<09:46, 26.66it/s]\rGenerating Data:   2%|▏         | 376/16000 [00:14<10:25, 24.97it/s]\rGenerating Data:   2%|▏         | 380/16000 [00:14<09:37, 27.03it/s]\rGenerating Data:   2%|▏         | 384/16000 [00:14<09:34, 27.18it/s]\rGenerating Data:   2%|▏         | 388/16000 [00:14<08:59, 28.93it/s]\rGenerating Data:   2%|▏         | 392/16000 [00:14<09:23, 27.71it/s]\rGenerating Data:   2%|▏         | 396/16000 [00:14<08:36, 30.21it/s]\rGenerating Data:   2%|▎         | 400/16000 [00:14<08:57, 29.01it/s]\rGenerating Data:   3%|▎         | 403/16000 [00:14<08:55, 29.14it/s]\rGenerating Data:   3%|▎         | 406/16000 [00:15<08:59, 28.90it/s]\rGenerating Data:   3%|▎         | 410/16000 [00:15<08:31, 30.48it/s]\rGenerating Data:   3%|▎         | 414/16000 [00:15<09:13, 28.18it/s]\rGenerating Data:   3%|▎         | 418/16000 [00:15<08:27, 30.70it/s]\rGenerating Data:   3%|▎         | 422/16000 [00:15<09:37, 26.96it/s]\rGenerating Data:   3%|▎         | 428/16000 [00:15<09:51, 26.35it/s]\rGenerating Data:   3%|▎         | 435/16000 [00:15<07:39, 33.89it/s]\rGenerating Data:   3%|▎         | 439/16000 [00:16<09:18, 27.85it/s]\rGenerating Data:   3%|▎         | 443/16000 [00:16<09:59, 25.94it/s]\rGenerating Data:   3%|▎         | 449/16000 [00:16<07:57, 32.53it/s]\rGenerating Data:   3%|▎         | 453/16000 [00:16<09:53, 26.18it/s]\rGenerating Data:   3%|▎         | 459/16000 [00:16<09:56, 26.06it/s]\rGenerating Data:   3%|▎         | 466/16000 [00:17<07:42, 33.60it/s]\rGenerating Data:   3%|▎         | 471/16000 [00:17<09:09, 28.25it/s]\rGenerating Data:   3%|▎         | 475/16000 [00:17<10:04, 25.68it/s]\rGenerating Data:   3%|▎         | 479/16000 [00:17<09:11, 28.15it/s]\rGenerating Data:   3%|▎         | 483/16000 [00:17<10:06, 25.57it/s]\rGenerating Data:   3%|▎         | 488/16000 [00:17<08:39, 29.89it/s]\rGenerating Data:   3%|▎         | 492/16000 [00:18<09:33, 27.02it/s]\rGenerating Data:   3%|▎         | 498/16000 [00:18<09:20, 27.68it/s]\rGenerating Data:   3%|▎         | 502/16000 [00:18<09:27, 27.31it/s]\rGenerating Data:   3%|▎         | 506/16000 [00:18<08:49, 29.28it/s]\rGenerating Data:   3%|▎         | 510/16000 [00:18<09:11, 28.08it/s]\rGenerating Data:   3%|▎         | 513/16000 [00:18<09:42, 26.59it/s]\rGenerating Data:   3%|▎         | 516/16000 [00:18<09:28, 27.24it/s]\rGenerating Data:   3%|▎         | 520/16000 [00:19<09:03, 28.47it/s]\rGenerating Data:   3%|▎         | 524/16000 [00:19<09:53, 26.09it/s]\rGenerating Data:   3%|▎         | 527/16000 [00:19<10:09, 25.37it/s]\rGenerating Data:   3%|▎         | 532/16000 [00:19<08:50, 29.18it/s]\rGenerating Data:   3%|▎         | 535/16000 [00:19<10:15, 25.13it/s]\rGenerating Data:   3%|▎         | 541/16000 [00:19<08:03, 31.94it/s]\rGenerating Data:   3%|▎         | 545/16000 [00:19<09:07, 28.24it/s]\rGenerating Data:   3%|▎         | 549/16000 [00:20<10:21, 24.85it/s]\rGenerating Data:   3%|▎         | 555/16000 [00:20<08:08, 31.61it/s]\rGenerating Data:   3%|▎         | 559/16000 [00:20<09:33, 26.92it/s]\rGenerating Data:   4%|▎         | 565/16000 [00:20<09:51, 26.09it/s]\rGenerating Data:   4%|▎         | 571/16000 [00:20<07:59, 32.17it/s]\rGenerating Data:   4%|▎         | 575/16000 [00:21<09:32, 26.97it/s]\rGenerating Data:   4%|▎         | 580/16000 [00:21<08:51, 29.00it/s]\rGenerating Data:   4%|▎         | 584/16000 [00:21<08:57, 28.66it/s]\rGenerating Data:   4%|▎         | 588/16000 [00:21<09:12, 27.90it/s]\rGenerating Data:   4%|▎         | 591/16000 [00:21<09:10, 28.01it/s]\rGenerating Data:   4%|▎         | 596/16000 [00:21<10:14, 25.07it/s]\rGenerating Data:   4%|▍         | 604/16000 [00:22<09:28, 27.10it/s]\rGenerating Data:   4%|▍         | 611/16000 [00:22<07:33, 33.96it/s]\rGenerating Data:   4%|▍         | 615/16000 [00:22<08:48, 29.12it/s]\rGenerating Data:   4%|▍         | 620/16000 [00:22<09:17, 27.60it/s]\rGenerating Data:   4%|▍         | 624/16000 [00:22<08:38, 29.68it/s]\rGenerating Data:   4%|▍         | 628/16000 [00:22<08:56, 28.66it/s]\rGenerating Data:   4%|▍         | 632/16000 [00:23<08:35, 29.79it/s]\rGenerating Data:   4%|▍         | 636/16000 [00:23<08:34, 29.87it/s]\rGenerating Data:   4%|▍         | 640/16000 [00:23<08:56, 28.63it/s]\rGenerating Data:   4%|▍         | 643/16000 [00:23<08:53, 28.79it/s]\rGenerating Data:   4%|▍         | 646/16000 [00:23<10:32, 24.26it/s]\rGenerating Data:   4%|▍         | 653/16000 [00:23<09:18, 27.46it/s]\rGenerating Data:   4%|▍         | 656/16000 [00:23<09:10, 27.90it/s]\rGenerating Data:   4%|▍         | 659/16000 [00:24<09:17, 27.49it/s]\rGenerating Data:   4%|▍         | 662/16000 [00:24<09:24, 27.16it/s]\rGenerating Data:   4%|▍         | 667/16000 [00:24<08:46, 29.13it/s]\rGenerating Data:   4%|▍         | 670/16000 [00:24<08:58, 28.46it/s]\rGenerating Data:   4%|▍         | 673/16000 [00:24<09:30, 26.88it/s]\rGenerating Data:   4%|▍         | 676/16000 [00:24<09:17, 27.49it/s]\rGenerating Data:   4%|▍         | 680/16000 [00:24<09:10, 27.81it/s]\rGenerating Data:   4%|▍         | 684/16000 [00:24<08:39, 29.46it/s]\rGenerating Data:   4%|▍         | 688/16000 [00:25<08:39, 29.47it/s]\rGenerating Data:   4%|▍         | 692/16000 [00:25<08:19, 30.63it/s]\rGenerating Data:   4%|▍         | 696/16000 [00:25<09:22, 27.21it/s]\rGenerating Data:   4%|▍         | 700/16000 [00:25<08:43, 29.21it/s]\rGenerating Data:   4%|▍         | 704/16000 [00:25<08:56, 28.50it/s]\rGenerating Data:   4%|▍         | 707/16000 [00:25<09:31, 26.74it/s]\rGenerating Data:   4%|▍         | 711/16000 [00:25<08:57, 28.43it/s]\rGenerating Data:   4%|▍         | 715/16000 [00:25<08:52, 28.71it/s]\rGenerating Data:   4%|▍         | 719/16000 [00:26<08:13, 30.93it/s]\rGenerating Data:   5%|▍         | 723/16000 [00:26<09:12, 27.67it/s]\rGenerating Data:   5%|▍         | 728/16000 [00:26<08:59, 28.30it/s]\rGenerating Data:   5%|▍         | 731/16000 [00:26<09:03, 28.07it/s]\rGenerating Data:   5%|▍         | 735/16000 [00:26<09:13, 27.58it/s]\rGenerating Data:   5%|▍         | 739/16000 [00:26<08:22, 30.34it/s]\rGenerating Data:   5%|▍         | 743/16000 [00:26<08:43, 29.13it/s]\rGenerating Data:   5%|▍         | 746/16000 [00:27<08:44, 29.07it/s]\rGenerating Data:   5%|▍         | 750/16000 [00:27<08:30, 29.85it/s]\rGenerating Data:   5%|▍         | 754/16000 [00:27<07:58, 31.83it/s]\rGenerating Data:   5%|▍         | 758/16000 [00:27<08:28, 29.95it/s]\rGenerating Data:   5%|▍         | 762/16000 [00:27<08:55, 28.47it/s]\rGenerating Data:   5%|▍         | 765/16000 [00:27<09:01, 28.16it/s]\rGenerating Data:   5%|▍         | 768/16000 [00:27<10:33, 24.06it/s]\rGenerating Data:   5%|▍         | 775/16000 [00:28<09:15, 27.42it/s]\rGenerating Data:   5%|▍         | 781/16000 [00:28<07:56, 31.93it/s]\rGenerating Data:   5%|▍         | 785/16000 [00:28<09:09, 27.67it/s]\rGenerating Data:   5%|▍         | 789/16000 [00:28<08:32, 29.67it/s]\rGenerating Data:   5%|▍         | 793/16000 [00:28<08:53, 28.50it/s]\rGenerating Data:   5%|▍         | 797/16000 [00:28<08:53, 28.48it/s]\rGenerating Data:   5%|▌         | 800/16000 [00:28<09:00, 28.12it/s]\rGenerating Data:   5%|▌         | 804/16000 [00:29<08:58, 28.23it/s]\rGenerating Data:   5%|▌         | 807/16000 [00:29<09:34, 26.47it/s]\rGenerating Data:   5%|▌         | 812/16000 [00:29<09:13, 27.44it/s]\rGenerating Data:   5%|▌         | 817/16000 [00:29<07:59, 31.66it/s]\rGenerating Data:   5%|▌         | 821/16000 [00:29<09:03, 27.93it/s]\rGenerating Data:   5%|▌         | 825/16000 [00:29<08:25, 30.01it/s]\rGenerating Data:   5%|▌         | 829/16000 [00:29<09:28, 26.70it/s]\rGenerating Data:   5%|▌         | 834/16000 [00:30<08:12, 30.80it/s]\rGenerating Data:   5%|▌         | 838/16000 [00:30<08:54, 28.37it/s]\rGenerating Data:   5%|▌         | 842/16000 [00:30<08:44, 28.92it/s]\rGenerating Data:   5%|▌         | 846/16000 [00:30<08:43, 28.97it/s]\rGenerating Data:   5%|▌         | 849/16000 [00:30<08:58, 28.15it/s]\rGenerating Data:   5%|▌         | 852/16000 [00:30<09:39, 26.15it/s]\rGenerating Data:   5%|▌         | 855/16000 [00:30<09:21, 26.99it/s]\rGenerating Data:   5%|▌         | 859/16000 [00:31<09:51, 25.61it/s]\rGenerating Data:   5%|▌         | 864/16000 [00:31<08:35, 29.35it/s]\rGenerating Data:   5%|▌         | 867/16000 [00:31<09:09, 27.52it/s]\rGenerating Data:   5%|▌         | 870/16000 [00:31<09:34, 26.33it/s]\rGenerating Data:   5%|▌         | 875/16000 [00:31<09:22, 26.90it/s]\rGenerating Data:   5%|▌         | 879/16000 [00:31<08:28, 29.72it/s]\rGenerating Data:   6%|▌         | 883/16000 [00:31<09:57, 25.28it/s]\rGenerating Data:   6%|▌         | 888/16000 [00:32<08:23, 30.01it/s]\rGenerating Data:   6%|▌         | 892/16000 [00:32<09:19, 26.99it/s]\rGenerating Data:   6%|▌         | 897/16000 [00:32<08:24, 29.94it/s]\rGenerating Data:   6%|▌         | 901/16000 [00:32<09:08, 27.53it/s]\rGenerating Data:   6%|▌         | 907/16000 [00:32<09:32, 26.38it/s]\rGenerating Data:   6%|▌         | 913/16000 [00:32<07:50, 32.07it/s]\rGenerating Data:   6%|▌         | 917/16000 [00:33<08:51, 28.37it/s]\rGenerating Data:   6%|▌         | 922/16000 [00:33<07:54, 31.77it/s]\rGenerating Data:   6%|▌         | 926/16000 [00:33<09:09, 27.42it/s]\rGenerating Data:   6%|▌         | 930/16000 [00:33<09:06, 27.60it/s]\rGenerating Data:   6%|▌         | 933/16000 [00:33<09:09, 27.44it/s]\rGenerating Data:   6%|▌         | 937/16000 [00:33<09:19, 26.93it/s]\rGenerating Data:   6%|▌         | 941/16000 [00:33<08:25, 29.77it/s]\rGenerating Data:   6%|▌         | 945/16000 [00:34<10:30, 23.86it/s]\rGenerating Data:   6%|▌         | 950/16000 [00:34<08:48, 28.47it/s]\rGenerating Data:   6%|▌         | 954/16000 [00:34<09:31, 26.33it/s]\rGenerating Data:   6%|▌         | 958/16000 [00:34<08:49, 28.43it/s]\rGenerating Data:   6%|▌         | 962/16000 [00:34<08:59, 27.87it/s]\rGenerating Data:   6%|▌         | 965/16000 [00:34<08:55, 28.10it/s]\rGenerating Data:   6%|▌         | 968/16000 [00:34<09:44, 25.71it/s]\rGenerating Data:   6%|▌         | 972/16000 [00:35<08:36, 29.07it/s]\rGenerating Data:   6%|▌         | 976/16000 [00:35<09:10, 27.31it/s]\rGenerating Data:   6%|▌         | 980/16000 [00:35<09:37, 25.99it/s]\rGenerating Data:   6%|▌         | 984/16000 [00:35<08:59, 27.85it/s]\rGenerating Data:   6%|▌         | 988/16000 [00:35<08:54, 28.07it/s]\rGenerating Data:   6%|▌         | 992/16000 [00:35<08:34, 29.19it/s]\rGenerating Data:   6%|▌         | 995/16000 [00:35<09:40, 25.86it/s]\rGenerating Data:   6%|▋         | 1000/16000 [00:36<08:52, 28.16it/s]\rGenerating Data:   6%|▋         | 1004/16000 [00:36<09:19, 26.80it/s]\rGenerating Data:   6%|▋         | 1009/16000 [00:36<09:03, 27.58it/s]\rGenerating Data:   6%|▋         | 1012/16000 [00:36<09:04, 27.50it/s]\rGenerating Data:   6%|▋         | 1015/16000 [00:36<09:10, 27.20it/s]\rGenerating Data:   6%|▋         | 1019/16000 [00:36<09:11, 27.19it/s]\rGenerating Data:   6%|▋         | 1022/16000 [00:36<09:19, 26.77it/s]\rGenerating Data:   6%|▋         | 1027/16000 [00:37<09:10, 27.20it/s]\rGenerating Data:   6%|▋         | 1031/16000 [00:37<08:39, 28.82it/s]\rGenerating Data:   6%|▋         | 1035/16000 [00:37<09:17, 26.84it/s]\rGenerating Data:   6%|▋         | 1039/16000 [00:37<09:51, 25.29it/s]\rGenerating Data:   7%|▋         | 1044/16000 [00:37<08:12, 30.38it/s]\rGenerating Data:   7%|▋         | 1048/16000 [00:37<09:03, 27.50it/s]\rGenerating Data:   7%|▋         | 1053/16000 [00:37<08:25, 29.59it/s]\rGenerating Data:   7%|▋         | 1057/16000 [00:38<08:21, 29.79it/s]\rGenerating Data:   7%|▋         | 1061/16000 [00:38<08:16, 30.07it/s]\rGenerating Data:   7%|▋         | 1065/16000 [00:38<08:30, 29.26it/s]\rGenerating Data:   7%|▋         | 1068/16000 [00:38<08:37, 28.87it/s]\rGenerating Data:   7%|▋         | 1071/16000 [00:38<09:32, 26.10it/s]\rGenerating Data:   7%|▋         | 1076/16000 [00:38<07:59, 31.15it/s]\rGenerating Data:   7%|▋         | 1080/16000 [00:38<09:16, 26.83it/s]\rGenerating Data:   7%|▋         | 1085/16000 [00:39<08:24, 29.56it/s]\rGenerating Data:   7%|▋         | 1089/16000 [00:39<08:36, 28.87it/s]\rGenerating Data:   7%|▋         | 1093/16000 [00:39<09:00, 27.57it/s]\rGenerating Data:   7%|▋         | 1097/16000 [00:39<08:37, 28.81it/s]\rGenerating Data:   7%|▋         | 1101/16000 [00:39<09:22, 26.50it/s]\rGenerating Data:   7%|▋         | 1107/16000 [00:39<07:34, 32.77it/s]\rGenerating Data:   7%|▋         | 1111/16000 [00:40<09:16, 26.74it/s]\rGenerating Data:   7%|▋         | 1115/16000 [00:40<08:25, 29.45it/s]\rGenerating Data:   7%|▋         | 1119/16000 [00:40<09:23, 26.43it/s]\rGenerating Data:   7%|▋         | 1124/16000 [00:40<09:57, 24.90it/s]\rGenerating Data:   7%|▋         | 1130/16000 [00:40<08:32, 29.01it/s]\rGenerating Data:   7%|▋         | 1134/16000 [00:40<08:45, 28.29it/s]\rGenerating Data:   7%|▋         | 1138/16000 [00:41<08:43, 28.38it/s]\rGenerating Data:   7%|▋         | 1141/16000 [00:41<08:54, 27.81it/s]\rGenerating Data:   7%|▋         | 1145/16000 [00:41<09:02, 27.39it/s]\rGenerating Data:   7%|▋         | 1149/16000 [00:41<08:11, 30.20it/s]\rGenerating Data:   7%|▋         | 1153/16000 [00:41<08:51, 27.96it/s]\rGenerating Data:   7%|▋         | 1158/16000 [00:41<08:45, 28.23it/s]\rGenerating Data:   7%|▋         | 1162/16000 [00:41<08:36, 28.74it/s]\rGenerating Data:   7%|▋         | 1166/16000 [00:42<09:07, 27.07it/s]\rGenerating Data:   7%|▋         | 1169/16000 [00:42<09:32, 25.89it/s]\rGenerating Data:   7%|▋         | 1174/16000 [00:42<08:24, 29.38it/s]\rGenerating Data:   7%|▋         | 1177/16000 [00:42<08:52, 27.83it/s]\rGenerating Data:   7%|▋         | 1181/16000 [00:42<08:02, 30.72it/s]\rGenerating Data:   7%|▋         | 1185/16000 [00:42<09:16, 26.64it/s]\rGenerating Data:   7%|▋         | 1191/16000 [00:42<09:15, 26.67it/s]\rGenerating Data:   7%|▋         | 1197/16000 [00:43<08:31, 28.96it/s]\rGenerating Data:   8%|▊         | 1201/16000 [00:43<08:41, 28.37it/s]\rGenerating Data:   8%|▊         | 1205/16000 [00:43<08:13, 29.97it/s]\rGenerating Data:   8%|▊         | 1209/16000 [00:43<09:21, 26.36it/s]\rGenerating Data:   8%|▊         | 1214/16000 [00:43<08:30, 28.96it/s]\rGenerating Data:   8%|▊         | 1218/16000 [00:43<08:33, 28.77it/s]\rGenerating Data:   8%|▊         | 1221/16000 [00:43<09:01, 27.31it/s]\rGenerating Data:   8%|▊         | 1224/16000 [00:44<09:56, 24.79it/s]\rGenerating Data:   8%|▊         | 1228/16000 [00:44<08:49, 27.90it/s]\rGenerating Data:   8%|▊         | 1231/16000 [00:44<09:35, 25.65it/s]\rGenerating Data:   8%|▊         | 1236/16000 [00:44<08:01, 30.66it/s]\rGenerating Data:   8%|▊         | 1240/16000 [00:44<08:50, 27.83it/s]\rGenerating Data:   8%|▊         | 1244/16000 [00:44<08:27, 29.09it/s]\rGenerating Data:   8%|▊         | 1248/16000 [00:44<08:59, 27.35it/s]\rGenerating Data:   8%|▊         | 1252/16000 [00:45<08:08, 30.20it/s]\rGenerating Data:   8%|▊         | 1256/16000 [00:45<08:48, 27.91it/s]\rGenerating Data:   8%|▊         | 1261/16000 [00:45<07:56, 30.95it/s]\rGenerating Data:   8%|▊         | 1265/16000 [00:45<08:43, 28.13it/s]\rGenerating Data:   8%|▊         | 1270/16000 [00:45<08:54, 27.57it/s]\rGenerating Data:   8%|▊         | 1273/16000 [00:45<09:00, 27.27it/s]\rGenerating Data:   8%|▊         | 1278/16000 [00:45<08:21, 29.37it/s]\rGenerating Data:   8%|▊         | 1281/16000 [00:46<08:42, 28.16it/s]\rGenerating Data:   8%|▊         | 1285/16000 [00:46<08:03, 30.44it/s]\rGenerating Data:   8%|▊         | 1289/16000 [00:46<08:22, 29.29it/s]\rGenerating Data:   8%|▊         | 1293/16000 [00:46<07:56, 30.88it/s]\rGenerating Data:   8%|▊         | 1297/16000 [00:46<08:36, 28.48it/s]\rGenerating Data:   8%|▊         | 1301/16000 [00:46<07:58, 30.71it/s]\rGenerating Data:   8%|▊         | 1305/16000 [00:46<08:55, 27.45it/s]\rGenerating Data:   8%|▊         | 1308/16000 [00:47<08:54, 27.50it/s]\rGenerating Data:   8%|▊         | 1311/16000 [00:47<09:14, 26.49it/s]\rGenerating Data:   8%|▊         | 1314/16000 [00:47<09:19, 26.25it/s]\rGenerating Data:   8%|▊         | 1317/16000 [00:47<10:34, 23.15it/s]\rGenerating Data:   8%|▊         | 1321/16000 [00:47<09:50, 24.84it/s]\rGenerating Data:   8%|▊         | 1325/16000 [00:47<10:31, 23.23it/s]\rGenerating Data:   8%|▊         | 1331/16000 [00:47<08:36, 28.40it/s]\rGenerating Data:   8%|▊         | 1334/16000 [00:48<09:10, 26.66it/s]\rGenerating Data:   8%|▊         | 1339/16000 [00:48<08:09, 29.97it/s]\rGenerating Data:   8%|▊         | 1343/16000 [00:48<09:25, 25.93it/s]\rGenerating Data:   8%|▊         | 1348/16000 [00:48<07:56, 30.74it/s]\rGenerating Data:   8%|▊         | 1352/16000 [00:48<09:09, 26.67it/s]\rGenerating Data:   8%|▊         | 1356/16000 [00:48<08:41, 28.07it/s]\rGenerating Data:   8%|▊         | 1360/16000 [00:49<09:42, 25.12it/s]\rGenerating Data:   9%|▊         | 1365/16000 [00:49<08:59, 27.11it/s]\rGenerating Data:   9%|▊         | 1368/16000 [00:49<09:36, 25.40it/s]\rGenerating Data:   9%|▊         | 1373/16000 [00:49<08:07, 30.03it/s]\rGenerating Data:   9%|▊         | 1377/16000 [00:49<08:54, 27.34it/s]\rGenerating Data:   9%|▊         | 1381/16000 [00:49<08:24, 29.00it/s]\rGenerating Data:   9%|▊         | 1385/16000 [00:49<09:13, 26.40it/s]\rGenerating Data:   9%|▊         | 1389/16000 [00:50<10:01, 24.29it/s]\rGenerating Data:   9%|▊         | 1395/16000 [00:50<08:06, 30.00it/s]\rGenerating Data:   9%|▊         | 1399/16000 [00:50<09:04, 26.83it/s]\rGenerating Data:   9%|▉         | 1404/16000 [00:50<08:17, 29.33it/s]\rGenerating Data:   9%|▉         | 1408/16000 [00:50<08:15, 29.44it/s]\rGenerating Data:   9%|▉         | 1412/16000 [00:50<08:48, 27.61it/s]\rGenerating Data:   9%|▉         | 1415/16000 [00:50<08:47, 27.62it/s]\rGenerating Data:   9%|▉         | 1419/16000 [00:51<08:14, 29.47it/s]\rGenerating Data:   9%|▉         | 1423/16000 [00:51<09:09, 26.54it/s]\rGenerating Data:   9%|▉         | 1427/16000 [00:51<08:37, 28.14it/s]\rGenerating Data:   9%|▉         | 1430/16000 [00:51<09:18, 26.09it/s]\rGenerating Data:   9%|▉         | 1435/16000 [00:51<08:04, 30.08it/s]\rGenerating Data:   9%|▉         | 1439/16000 [00:51<08:23, 28.91it/s]\rGenerating Data:   9%|▉         | 1442/16000 [00:51<08:31, 28.46it/s]\rGenerating Data:   9%|▉         | 1445/16000 [00:52<08:44, 27.78it/s]\rGenerating Data:   9%|▉         | 1448/16000 [00:52<08:36, 28.17it/s]\rGenerating Data:   9%|▉         | 1451/16000 [00:52<09:07, 26.57it/s]\rGenerating Data:   9%|▉         | 1456/16000 [00:52<08:52, 27.31it/s]\rGenerating Data:   9%|▉         | 1460/16000 [00:52<08:33, 28.33it/s]\rGenerating Data:   9%|▉         | 1464/16000 [00:52<08:43, 27.75it/s]\rGenerating Data:   9%|▉         | 1468/16000 [00:52<08:07, 29.81it/s]\rGenerating Data:   9%|▉         | 1472/16000 [00:53<09:02, 26.77it/s]\rGenerating Data:   9%|▉         | 1478/16000 [00:53<07:14, 33.43it/s]\rGenerating Data:   9%|▉         | 1482/16000 [00:53<09:07, 26.52it/s]\rGenerating Data:   9%|▉         | 1488/16000 [00:53<08:23, 28.80it/s]\rGen\n",
      "\n",
      "*** WARNING: max output size exceeded, skipping output. ***\n",
      "\n",
      ".33it/s]\rGenerating Data:  91%|█████████▏| 14622/16000 [08:42<00:49, 27.70it/s]\rGenerating Data:  91%|█████████▏| 14625/16000 [08:43<00:54, 25.44it/s]\rGenerating Data:  91%|█████████▏| 14629/16000 [08:43<00:47, 28.71it/s]\rGenerating Data:  91%|█████████▏| 14633/16000 [08:43<00:50, 27.10it/s]\rGenerating Data:  91%|█████████▏| 14636/16000 [08:43<00:51, 26.38it/s]\rGenerating Data:  92%|█████████▏| 14641/16000 [08:43<00:45, 29.95it/s]\rGenerating Data:  92%|█████████▏| 14645/16000 [08:43<00:52, 25.96it/s]\rGenerating Data:  92%|█████████▏| 14650/16000 [08:43<00:44, 30.25it/s]\rGenerating Data:  92%|█████████▏| 14654/16000 [08:44<00:50, 26.39it/s]\rGenerating Data:  92%|█████████▏| 14658/16000 [08:44<00:51, 26.12it/s]\rGenerating Data:  92%|█████████▏| 14661/16000 [08:44<00:50, 26.31it/s]\rGenerating Data:  92%|█████████▏| 14666/16000 [08:44<00:52, 25.47it/s]\rGenerating Data:  92%|█████████▏| 14671/16000 [08:44<00:45, 29.04it/s]\rGenerating Data:  92%|█████████▏| 14675/16000 [08:44<00:49, 26.79it/s]\rGenerating Data:  92%|█████████▏| 14679/16000 [08:45<00:48, 27.24it/s]\rGenerating Data:  92%|█████████▏| 14683/16000 [08:45<00:44, 29.27it/s]\rGenerating Data:  92%|█████████▏| 14687/16000 [08:45<00:46, 28.37it/s]\rGenerating Data:  92%|█████████▏| 14691/16000 [08:45<00:43, 30.40it/s]\rGenerating Data:  92%|█████████▏| 14695/16000 [08:45<00:44, 29.09it/s]\rGenerating Data:  92%|█████████▏| 14698/16000 [08:45<00:45, 28.83it/s]\rGenerating Data:  92%|█████████▏| 14701/16000 [08:45<00:47, 27.56it/s]\rGenerating Data:  92%|█████████▏| 14704/16000 [08:45<00:51, 25.41it/s]\rGenerating Data:  92%|█████████▏| 14708/16000 [08:46<00:46, 28.08it/s]\rGenerating Data:  92%|█████████▏| 14711/16000 [08:46<00:48, 26.59it/s]\rGenerating Data:  92%|█████████▏| 14716/16000 [08:46<00:41, 30.71it/s]\rGenerating Data:  92%|█████████▏| 14720/16000 [08:46<00:49, 25.77it/s]\rGenerating Data:  92%|█████████▏| 14725/16000 [08:46<00:41, 30.73it/s]\rGenerating Data:  92%|█████████▏| 14729/16000 [08:46<00:47, 26.82it/s]\rGenerating Data:  92%|█████████▏| 14733/16000 [08:46<00:43, 29.09it/s]\rGenerating Data:  92%|█████████▏| 14737/16000 [08:47<00:44, 28.17it/s]\rGenerating Data:  92%|█████████▏| 14741/16000 [08:47<00:43, 29.14it/s]\rGenerating Data:  92%|█████████▏| 14745/16000 [08:47<00:42, 29.79it/s]\rGenerating Data:  92%|█████████▏| 14749/16000 [08:47<00:43, 29.06it/s]\rGenerating Data:  92%|█████████▏| 14753/16000 [08:47<00:45, 27.59it/s]\rGenerating Data:  92%|█████████▏| 14756/16000 [08:47<00:46, 26.89it/s]\rGenerating Data:  92%|█████████▏| 14759/16000 [08:47<00:45, 27.45it/s]\rGenerating Data:  92%|█████████▏| 14763/16000 [08:48<00:47, 26.08it/s]\rGenerating Data:  92%|█████████▏| 14767/16000 [08:48<00:45, 27.34it/s]\rGenerating Data:  92%|█████████▏| 14771/16000 [08:48<00:44, 27.78it/s]\rGenerating Data:  92%|█████████▏| 14774/16000 [08:48<00:45, 27.08it/s]\rGenerating Data:  92%|█████████▏| 14779/16000 [08:48<00:41, 29.66it/s]\rGenerating Data:  92%|█████████▏| 14782/16000 [08:48<00:42, 28.46it/s]\rGenerating Data:  92%|█████████▏| 14785/16000 [08:48<00:42, 28.42it/s]\rGenerating Data:  92%|█████████▏| 14790/16000 [08:48<00:40, 30.23it/s]\rGenerating Data:  92%|█████████▏| 14793/16000 [08:49<00:43, 27.45it/s]\rGenerating Data:  92%|█████████▏| 14797/16000 [08:49<00:40, 29.96it/s]\rGenerating Data:  93%|█████████▎| 14801/16000 [08:49<00:43, 27.66it/s]\rGenerating Data:  93%|█████████▎| 14806/16000 [08:49<00:40, 29.38it/s]\rGenerating Data:  93%|█████████▎| 14809/16000 [08:49<00:48, 24.70it/s]\rGenerating Data:  93%|█████████▎| 14815/16000 [08:49<00:43, 27.27it/s]\rGenerating Data:  93%|█████████▎| 14820/16000 [08:50<00:38, 30.50it/s]\rGenerating Data:  93%|█████████▎| 14824/16000 [08:50<00:44, 26.58it/s]\rGenerating Data:  93%|█████████▎| 14830/16000 [08:50<00:36, 32.26it/s]\rGenerating Data:  93%|█████████▎| 14834/16000 [08:50<00:39, 29.17it/s]\rGenerating Data:  93%|█████████▎| 14838/16000 [08:50<00:38, 29.90it/s]\rGenerating Data:  93%|█████████▎| 14842/16000 [08:50<00:40, 28.32it/s]\rGenerating Data:  93%|█████████▎| 14846/16000 [08:50<00:37, 30.55it/s]\rGenerating Data:  93%|█████████▎| 14850/16000 [08:51<00:41, 27.71it/s]\rGenerating Data:  93%|█████████▎| 14853/16000 [08:51<00:44, 25.92it/s]\rGenerating Data:  93%|█████████▎| 14856/16000 [08:51<00:44, 25.94it/s]\rGenerating Data:  93%|█████████▎| 14861/16000 [08:51<00:40, 28.40it/s]\rGenerating Data:  93%|█████████▎| 14864/16000 [08:51<00:40, 27.96it/s]\rGenerating Data:  93%|█████████▎| 14867/16000 [08:51<00:42, 26.71it/s]\rGenerating Data:  93%|█████████▎| 14870/16000 [08:51<00:44, 25.13it/s]\rGenerating Data:  93%|█████████▎| 14873/16000 [08:52<00:45, 24.63it/s]\rGenerating Data:  93%|█████████▎| 14877/16000 [08:52<00:43, 25.77it/s]\rGenerating Data:  93%|█████████▎| 14880/16000 [08:52<00:42, 26.63it/s]\rGenerating Data:  93%|█████████▎| 14884/16000 [08:52<00:38, 28.93it/s]\rGenerating Data:  93%|█████████▎| 14888/16000 [08:52<00:42, 26.22it/s]\rGenerating Data:  93%|█████████▎| 14892/16000 [08:52<00:38, 28.73it/s]\rGenerating Data:  93%|█████████▎| 14895/16000 [08:52<00:38, 28.78it/s]\rGenerating Data:  93%|█████████▎| 14898/16000 [08:52<00:39, 28.21it/s]\rGenerating Data:  93%|█████████▎| 14902/16000 [08:53<00:38, 28.50it/s]\rGenerating Data:  93%|█████████▎| 14905/16000 [08:53<00:40, 27.08it/s]\rGenerating Data:  93%|█████████▎| 14909/16000 [08:53<00:38, 28.44it/s]\rGenerating Data:  93%|█████████▎| 14912/16000 [08:53<00:40, 26.76it/s]\rGenerating Data:  93%|█████████▎| 14917/16000 [08:53<00:38, 28.06it/s]\rGenerating Data:  93%|█████████▎| 14920/16000 [08:53<00:40, 26.44it/s]\rGenerating Data:  93%|█████████▎| 14924/16000 [08:53<00:36, 29.10it/s]\rGenerating Data:  93%|█████████▎| 14927/16000 [08:53<00:40, 26.31it/s]\rGenerating Data:  93%|█████████▎| 14932/16000 [08:54<00:33, 31.56it/s]\rGenerating Data:  93%|█████████▎| 14936/16000 [08:54<00:36, 29.00it/s]\rGenerating Data:  93%|█████████▎| 14940/16000 [08:54<00:35, 29.59it/s]\rGenerating Data:  93%|█████████▎| 14944/16000 [08:54<00:36, 29.29it/s]\rGenerating Data:  93%|█████████▎| 14947/16000 [08:54<00:37, 28.44it/s]\rGenerating Data:  93%|█████████▎| 14950/16000 [08:54<00:36, 28.41it/s]\rGenerating Data:  93%|█████████▎| 14954/16000 [08:54<00:37, 28.04it/s]\rGenerating Data:  93%|█████████▎| 14958/16000 [08:54<00:35, 29.29it/s]\rGenerating Data:  94%|█████████▎| 14962/16000 [08:55<00:38, 27.21it/s]\rGenerating Data:  94%|█████████▎| 14966/16000 [08:55<00:39, 26.12it/s]\rGenerating Data:  94%|█████████▎| 14972/16000 [08:55<00:30, 33.65it/s]\rGenerating Data:  94%|█████████▎| 14976/16000 [08:55<00:38, 26.87it/s]\rGenerating Data:  94%|█████████▎| 14981/16000 [08:55<00:36, 28.10it/s]\rGenerating Data:  94%|█████████▎| 14985/16000 [08:55<00:35, 28.81it/s]\rGenerating Data:  94%|█████████▎| 14989/16000 [08:56<00:34, 29.00it/s]\rGenerating Data:  94%|█████████▎| 14993/16000 [08:56<00:36, 27.84it/s]\rGenerating Data:  94%|█████████▎| 14997/16000 [08:56<00:35, 28.26it/s]\rGenerating Data:  94%|█████████▍| 15000/16000 [08:56<00:38, 26.08it/s]\rGenerating Data:  94%|█████████▍| 15004/16000 [08:56<00:35, 28.10it/s]\rGenerating Data:  94%|█████████▍| 15007/16000 [08:56<00:36, 26.93it/s]\rGenerating Data:  94%|█████████▍| 15011/16000 [08:56<00:34, 28.64it/s]\rGenerating Data:  94%|█████████▍| 15014/16000 [08:56<00:35, 28.03it/s]\rGenerating Data:  94%|█████████▍| 15018/16000 [08:57<00:35, 28.02it/s]\rGenerating Data:  94%|█████████▍| 15022/16000 [08:57<00:36, 27.16it/s]\rGenerating Data:  94%|█████████▍| 15025/16000 [08:57<00:35, 27.72it/s]\rGenerating Data:  94%|█████████▍| 15030/16000 [08:57<00:36, 26.61it/s]\rGenerating Data:  94%|█████████▍| 15033/16000 [08:57<00:35, 27.34it/s]\rGenerating Data:  94%|█████████▍| 15038/16000 [08:57<00:34, 27.66it/s]\rGenerating Data:  94%|█████████▍| 15041/16000 [08:58<00:36, 26.34it/s]\rGenerating Data:  94%|█████████▍| 15046/16000 [08:58<00:34, 27.80it/s]\rGenerating Data:  94%|█████████▍| 15050/16000 [08:58<00:32, 29.44it/s]\rGenerating Data:  94%|█████████▍| 15054/16000 [08:58<00:35, 26.78it/s]\rGenerating Data:  94%|█████████▍| 15059/16000 [08:58<00:31, 29.73it/s]\rGenerating Data:  94%|█████████▍| 15063/16000 [08:58<00:31, 29.45it/s]\rGenerating Data:  94%|█████████▍| 15067/16000 [08:58<00:31, 29.35it/s]\rGenerating Data:  94%|█████████▍| 15070/16000 [08:58<00:31, 29.20it/s]\rGenerating Data:  94%|█████████▍| 15073/16000 [08:59<00:34, 26.53it/s]\rGenerating Data:  94%|█████████▍| 15078/16000 [08:59<00:29, 30.94it/s]\rGenerating Data:  94%|█████████▍| 15082/16000 [08:59<00:31, 28.92it/s]\rGenerating Data:  94%|█████████▍| 15086/16000 [08:59<00:32, 28.09it/s]\rGenerating Data:  94%|█████████▍| 15089/16000 [08:59<00:33, 27.48it/s]\rGenerating Data:  94%|█████████▍| 15093/16000 [08:59<00:30, 30.08it/s]\rGenerating Data:  94%|█████████▍| 15097/16000 [08:59<00:34, 26.18it/s]\rGenerating Data:  94%|█████████▍| 15102/16000 [09:00<00:28, 31.31it/s]\rGenerating Data:  94%|█████████▍| 15106/16000 [09:00<00:34, 25.59it/s]\rGenerating Data:  94%|█████████▍| 15111/16000 [09:00<00:31, 27.90it/s]\rGenerating Data:  94%|█████████▍| 15115/16000 [09:00<00:34, 25.90it/s]\rGenerating Data:  94%|█████████▍| 15119/16000 [09:00<00:31, 28.18it/s]\rGenerating Data:  95%|█████████▍| 15123/16000 [09:00<00:34, 25.54it/s]\rGenerating Data:  95%|█████████▍| 15126/16000 [09:01<00:34, 25.02it/s]\rGenerating Data:  95%|█████████▍| 15130/16000 [09:01<00:32, 26.76it/s]\rGenerating Data:  95%|█████████▍| 15133/16000 [09:01<00:33, 25.97it/s]\rGenerating Data:  95%|█████████▍| 15137/16000 [09:01<00:30, 28.12it/s]\rGenerating Data:  95%|█████████▍| 15141/16000 [09:01<00:30, 28.05it/s]\rGenerating Data:  95%|█████████▍| 15145/16000 [09:01<00:28, 29.92it/s]\rGenerating Data:  95%|█████████▍| 15149/16000 [09:01<00:28, 29.69it/s]\rGenerating Data:  95%|█████████▍| 15153/16000 [09:01<00:28, 29.99it/s]\rGenerating Data:  95%|█████████▍| 15157/16000 [09:02<00:29, 28.21it/s]\rGenerating Data:  95%|█████████▍| 15162/16000 [09:02<00:29, 28.42it/s]\rGenerating Data:  95%|█████████▍| 15166/16000 [09:02<00:28, 28.94it/s]\rGenerating Data:  95%|█████████▍| 15169/16000 [09:02<00:29, 27.77it/s]\rGenerating Data:  95%|█████████▍| 15174/16000 [09:02<00:29, 27.55it/s]\rGenerating Data:  95%|█████████▍| 15178/16000 [09:02<00:27, 29.63it/s]\rGenerating Data:  95%|█████████▍| 15182/16000 [09:02<00:28, 28.68it/s]\rGenerating Data:  95%|█████████▍| 15186/16000 [09:03<00:27, 29.93it/s]\rGenerating Data:  95%|█████████▍| 15190/16000 [09:03<00:28, 28.76it/s]\rGenerating Data:  95%|█████████▍| 15193/16000 [09:03<00:29, 27.28it/s]\rGenerating Data:  95%|█████████▍| 15197/16000 [09:03<00:30, 25.99it/s]\rGenerating Data:  95%|█████████▌| 15202/16000 [09:03<00:26, 30.49it/s]\rGenerating Data:  95%|█████████▌| 15206/16000 [09:03<00:29, 27.06it/s]\rGenerating Data:  95%|█████████▌| 15210/16000 [09:04<00:28, 27.38it/s]\rGenerating Data:  95%|█████████▌| 15213/16000 [09:04<00:29, 26.39it/s]\rGenerating Data:  95%|█████████▌| 15218/16000 [09:04<00:26, 29.58it/s]\rGenerating Data:  95%|█████████▌| 15222/16000 [09:04<00:27, 28.56it/s]\rGenerating Data:  95%|█████████▌| 15226/16000 [09:04<00:25, 30.52it/s]\rGenerating Data:  95%|█████████▌| 15230/16000 [09:04<00:28, 27.08it/s]\rGenerating Data:  95%|█████████▌| 15235/16000 [09:04<00:30, 25.04it/s]\rGenerating Data:  95%|█████████▌| 15241/16000 [09:05<00:24, 31.28it/s]\rGenerating Data:  95%|█████████▌| 15245/16000 [09:05<00:27, 27.50it/s]\rGenerating Data:  95%|█████████▌| 15249/16000 [09:05<00:25, 29.71it/s]\rGenerating Data:  95%|█████████▌| 15253/16000 [09:05<00:26, 28.45it/s]\rGenerating Data:  95%|█████████▌| 15258/16000 [09:05<00:23, 31.32it/s]\rGenerating Data:  95%|█████████▌| 15262/16000 [09:05<00:26, 27.92it/s]\rGenerating Data:  95%|█████████▌| 15265/16000 [09:05<00:27, 26.70it/s]\rGenerating Data:  95%|█████████▌| 15268/16000 [09:06<00:28, 25.49it/s]\rGenerating Data:  95%|█████████▌| 15273/16000 [09:06<00:24, 29.75it/s]\rGenerating Data:  95%|█████████▌| 15277/16000 [09:06<00:25, 28.09it/s]\rGenerating Data:  96%|█████████▌| 15281/16000 [09:06<00:25, 28.56it/s]\rGenerating Data:  96%|█████████▌| 15284/16000 [09:06<00:26, 27.40it/s]\rGenerating Data:  96%|█████████▌| 15289/16000 [09:06<00:23, 30.25it/s]\rGenerating Data:  96%|█████████▌| 15293/16000 [09:06<00:24, 28.41it/s]\rGenerating Data:  96%|█████████▌| 15297/16000 [09:07<00:24, 28.20it/s]\rGenerating Data:  96%|█████████▌| 15300/16000 [09:07<00:25, 27.74it/s]\rGenerating Data:  96%|█████████▌| 15304/16000 [09:07<00:23, 29.14it/s]\rGenerating Data:  96%|█████████▌| 15307/16000 [09:07<00:24, 28.47it/s]\rGenerating Data:  96%|█████████▌| 15311/16000 [09:07<00:24, 27.86it/s]\rGenerating Data:  96%|█████████▌| 15314/16000 [09:07<00:25, 26.69it/s]\rGenerating Data:  96%|█████████▌| 15318/16000 [09:07<00:24, 27.56it/s]\rGenerating Data:  96%|█████████▌| 15321/16000 [09:07<00:24, 27.82it/s]\rGenerating Data:  96%|█████████▌| 15325/16000 [09:08<00:24, 27.50it/s]\rGenerating Data:  96%|█████████▌| 15328/16000 [09:08<00:24, 27.62it/s]\rGenerating Data:  96%|█████████▌| 15333/16000 [09:08<00:24, 27.50it/s]\rGenerating Data:  96%|█████████▌| 15337/16000 [09:08<00:22, 28.83it/s]\rGenerating Data:  96%|█████████▌| 15341/16000 [09:08<00:25, 26.11it/s]\rGenerating Data:  96%|█████████▌| 15346/16000 [09:08<00:23, 28.33it/s]\rGenerating Data:  96%|█████████▌| 15349/16000 [09:08<00:22, 28.40it/s]\rGenerating Data:  96%|█████████▌| 15354/16000 [09:09<00:23, 27.96it/s]\rGenerating Data:  96%|█████████▌| 15359/16000 [09:09<00:21, 29.36it/s]\rGenerating Data:  96%|█████████▌| 15362/16000 [09:09<00:23, 26.64it/s]\rGenerating Data:  96%|█████████▌| 15367/16000 [09:09<00:21, 29.17it/s]\rGenerating Data:  96%|█████████▌| 15370/16000 [09:09<00:22, 28.13it/s]\rGenerating Data:  96%|█████████▌| 15374/16000 [09:09<00:22, 28.12it/s]\rGenerating Data:  96%|█████████▌| 15377/16000 [09:09<00:22, 27.74it/s]\rGenerating Data:  96%|█████████▌| 15381/16000 [09:10<00:21, 29.17it/s]\rGenerating Data:  96%|█████████▌| 15385/16000 [09:10<00:20, 29.33it/s]\rGenerating Data:  96%|█████████▌| 15389/16000 [09:10<00:21, 27.83it/s]\rGenerating Data:  96%|█████████▌| 15394/16000 [09:10<00:20, 29.71it/s]\rGenerating Data:  96%|█████████▌| 15397/16000 [09:10<00:20, 28.99it/s]\rGenerating Data:  96%|█████████▋| 15400/16000 [09:10<00:21, 28.44it/s]\rGenerating Data:  96%|█████████▋| 15404/16000 [09:10<00:19, 30.81it/s]\rGenerating Data:  96%|█████████▋| 15408/16000 [09:10<00:20, 29.36it/s]\rGenerating Data:  96%|█████████▋| 15412/16000 [09:11<00:18, 31.26it/s]\rGenerating Data:  96%|█████████▋| 15416/16000 [09:11<00:19, 29.81it/s]\rGenerating Data:  96%|█████████▋| 15420/16000 [09:11<00:18, 31.46it/s]\rGenerating Data:  96%|█████████▋| 15424/16000 [09:11<00:21, 27.26it/s]\rGenerating Data:  96%|█████████▋| 15428/16000 [09:11<00:19, 29.54it/s]\rGenerating Data:  96%|█████████▋| 15432/16000 [09:11<00:19, 28.45it/s]\rGenerating Data:  96%|█████████▋| 15435/16000 [09:11<00:20, 27.16it/s]\rGenerating Data:  96%|█████████▋| 15438/16000 [09:12<00:20, 27.68it/s]\rGenerating Data:  97%|█████████▋| 15442/16000 [09:12<00:19, 28.92it/s]\rGenerating Data:  97%|█████████▋| 15445/16000 [09:12<00:20, 27.27it/s]\rGenerating Data:  97%|█████████▋| 15449/16000 [09:12<00:19, 28.78it/s]\rGenerating Data:  97%|█████████▋| 15452/16000 [09:12<00:21, 25.69it/s]\rGenerating Data:  97%|█████████▋| 15456/16000 [09:12<00:19, 28.23it/s]\rGenerating Data:  97%|█████████▋| 15460/16000 [09:12<00:20, 25.91it/s]\rGenerating Data:  97%|█████████▋| 15465/16000 [09:12<00:17, 30.08it/s]\rGenerating Data:  97%|█████████▋| 15469/16000 [09:13<00:18, 28.19it/s]\rGenerating Data:  97%|█████████▋| 15473/16000 [09:13<00:18, 28.57it/s]\rGenerating Data:  97%|█████████▋| 15476/16000 [09:13<00:18, 28.72it/s]\rGenerating Data:  97%|█████████▋| 15479/16000 [09:13<00:18, 28.49it/s]\rGenerating Data:  97%|█████████▋| 15482/16000 [09:13<00:20, 25.49it/s]\rGenerating Data:  97%|█████████▋| 15486/16000 [09:13<00:17, 28.97it/s]\rGenerating Data:  97%|█████████▋| 15490/16000 [09:13<00:18, 26.89it/s]\rGenerating Data:  97%|█████████▋| 15495/16000 [09:14<00:19, 25.68it/s]\rGenerating Data:  97%|█████████▋| 15499/16000 [09:14<00:18, 27.68it/s]\rGenerating Data:  97%|█████████▋| 15502/16000 [09:14<00:18, 26.49it/s]\rGenerating Data:  97%|█████████▋| 15505/16000 [09:14<00:18, 27.02it/s]\rGenerating Data:  97%|█████████▋| 15509/16000 [09:14<00:16, 28.92it/s]\rGenerating Data:  97%|█████████▋| 15512/16000 [09:14<00:19, 24.82it/s]\rGenerating Data:  97%|█████████▋| 15518/16000 [09:14<00:17, 28.25it/s]\rGenerating Data:  97%|█████████▋| 15522/16000 [09:15<00:15, 30.54it/s]\rGenerating Data:  97%|█████████▋| 15526/16000 [09:15<00:16, 29.32it/s]\rGenerating Data:  97%|█████████▋| 15530/16000 [09:15<00:17, 26.72it/s]\rGenerating Data:  97%|█████████▋| 15534/16000 [09:15<00:16, 28.65it/s]\rGenerating Data:  97%|█████████▋| 15537/16000 [09:15<00:17, 25.79it/s]\rGenerating Data:  97%|█████████▋| 15540/16000 [09:15<00:17, 26.15it/s]\rGenerating Data:  97%|█████████▋| 15544/16000 [09:15<00:16, 28.10it/s]\rGenerating Data:  97%|█████████▋| 15548/16000 [09:16<00:16, 26.61it/s]\rGenerating Data:  97%|█████████▋| 15552/16000 [09:16<00:17, 25.61it/s]\rGenerating Data:  97%|█████████▋| 15556/16000 [09:16<00:16, 27.47it/s]\rGenerating Data:  97%|█████████▋| 15560/16000 [09:16<00:15, 27.73it/s]\rGenerating Data:  97%|█████████▋| 15564/16000 [09:16<00:14, 29.53it/s]\rGenerating Data:  97%|█████████▋| 15568/16000 [09:16<00:16, 26.75it/s]\rGenerating Data:  97%|█████████▋| 15572/16000 [09:16<00:15, 28.40it/s]\rGenerating Data:  97%|█████████▋| 15575/16000 [09:16<00:15, 27.61it/s]\rGenerating Data:  97%|█████████▋| 15578/16000 [09:17<00:15, 27.52it/s]\rGenerating Data:  97%|█████████▋| 15582/16000 [09:17<00:13, 30.25it/s]\rGenerating Data:  97%|█████████▋| 15586/16000 [09:17<00:15, 26.60it/s]\rGenerating Data:  97%|█████████▋| 15591/16000 [09:17<00:15, 26.89it/s]\rGenerating Data:  97%|█████████▋| 15596/16000 [09:17<00:13, 30.62it/s]\rGenerating Data:  98%|█████████▊| 15600/16000 [09:17<00:14, 28.39it/s]\rGenerating Data:  98%|█████████▊| 15605/16000 [09:18<00:13, 29.82it/s]\rGenerating Data:  98%|█████████▊| 15609/16000 [09:18<00:14, 27.74it/s]\rGenerating Data:  98%|█████████▊| 15614/16000 [09:18<00:12, 30.10it/s]\rGenerating Data:  98%|█████████▊| 15618/16000 [09:18<00:13, 28.11it/s]\rGenerating Data:  98%|█████████▊| 15623/16000 [09:18<00:12, 29.21it/s]\rGenerating Data:  98%|█████████▊| 15626/16000 [09:18<00:13, 27.64it/s]\rGenerating Data:  98%|█████████▊| 15629/16000 [09:18<00:13, 28.01it/s]\rGenerating Data:  98%|█████████▊| 15633/16000 [09:19<00:12, 29.06it/s]\rGenerating Data:  98%|█████████▊| 15636/16000 [09:19<00:12, 28.11it/s]\rGenerating Data:  98%|█████████▊| 15640/16000 [09:19<00:13, 27.02it/s]\rGenerating Data:  98%|█████████▊| 15644/16000 [09:19<00:12, 27.78it/s]\rGenerating Data:  98%|█████████▊| 15648/16000 [09:19<00:12, 28.81it/s]\rGenerating Data:  98%|█████████▊| 15652/16000 [09:19<00:11, 29.15it/s]\rGenerating Data:  98%|█████████▊| 15655/16000 [09:19<00:11, 28.79it/s]\rGenerating Data:  98%|█████████▊| 15658/16000 [09:19<00:13, 25.78it/s]\rGenerating Data:  98%|█████████▊| 15662/16000 [09:20<00:11, 29.00it/s]\rGenerating Data:  98%|█████████▊| 15665/16000 [09:20<00:13, 25.67it/s]\rGenerating Data:  98%|█████████▊| 15668/16000 [09:20<00:13, 25.52it/s]\rGenerating Data:  98%|█████████▊| 15672/16000 [09:20<00:12, 27.31it/s]\rGenerating Data:  98%|█████████▊| 15675/16000 [09:20<00:12, 26.31it/s]\rGenerating Data:  98%|█████████▊| 15679/16000 [09:20<00:11, 26.98it/s]\rGenerating Data:  98%|█████████▊| 15683/16000 [09:20<00:11, 27.98it/s]\rGenerating Data:  98%|█████████▊| 15686/16000 [09:20<00:11, 28.04it/s]\rGenerating Data:  98%|█████████▊| 15691/16000 [09:21<00:11, 27.96it/s]\rGenerating Data:  98%|█████████▊| 15695/16000 [09:21<00:10, 30.48it/s]\rGenerating Data:  98%|█████████▊| 15699/16000 [09:21<00:10, 29.25it/s]\rGenerating Data:  98%|█████████▊| 15702/16000 [09:21<00:10, 28.16it/s]\rGenerating Data:  98%|█████████▊| 15706/16000 [09:21<00:11, 25.34it/s]\rGenerating Data:  98%|█████████▊| 15712/16000 [09:21<00:08, 32.07it/s]\rGenerating Data:  98%|█████████▊| 15716/16000 [09:22<00:10, 26.09it/s]\rGenerating Data:  98%|█████████▊| 15721/16000 [09:22<00:10, 26.55it/s]\rGenerating Data:  98%|█████████▊| 15725/16000 [09:22<00:09, 29.24it/s]\rGenerating Data:  98%|█████████▊| 15729/16000 [09:22<00:10, 25.32it/s]\rGenerating Data:  98%|█████████▊| 15734/16000 [09:22<00:09, 29.29it/s]\rGenerating Data:  98%|█████████▊| 15738/16000 [09:22<00:09, 27.72it/s]\rGenerating Data:  98%|█████████▊| 15741/16000 [09:22<00:09, 27.78it/s]\rGenerating Data:  98%|█████████▊| 15744/16000 [09:23<00:10, 24.98it/s]\rGenerating Data:  98%|█████████▊| 15749/16000 [09:23<00:08, 29.80it/s]\rGenerating Data:  98%|█████████▊| 15753/16000 [09:23<00:09, 24.87it/s]\rGenerating Data:  98%|█████████▊| 15757/16000 [09:23<00:08, 28.02it/s]\rGenerating Data:  99%|█████████▊| 15761/16000 [09:23<00:09, 24.96it/s]\rGenerating Data:  99%|█████████▊| 15766/16000 [09:23<00:09, 23.76it/s]\rGenerating Data:  99%|█████████▊| 15773/16000 [09:24<00:07, 30.86it/s]\rGenerating Data:  99%|█████████▊| 15777/16000 [09:24<00:08, 25.92it/s]\rGenerating Data:  99%|█████████▊| 15782/16000 [09:24<00:08, 25.30it/s]\rGenerating Data:  99%|█████████▊| 15789/16000 [09:24<00:06, 31.26it/s]\rGenerating Data:  99%|█████████▊| 15793/16000 [09:24<00:07, 28.37it/s]\rGenerating Data:  99%|█████████▊| 15798/16000 [09:25<00:07, 27.55it/s]\rGenerating Data:  99%|█████████▉| 15803/16000 [09:25<00:06, 31.15it/s]\rGenerating Data:  99%|█████████▉| 15807/16000 [09:25<00:06, 29.26it/s]\rGenerating Data:  99%|█████████▉| 15811/16000 [09:25<00:06, 28.93it/s]\rGenerating Data:  99%|█████████▉| 15815/16000 [09:25<00:06, 27.23it/s]\rGenerating Data:  99%|█████████▉| 15819/16000 [09:25<00:06, 28.02it/s]\rGenerating Data:  99%|█████████▉| 15822/16000 [09:25<00:06, 27.97it/s]\rGenerating Data:  99%|█████████▉| 15827/16000 [09:26<00:06, 27.60it/s]\rGenerating Data:  99%|█████████▉| 15830/16000 [09:26<00:06, 27.42it/s]\rGenerating Data:  99%|█████████▉| 15835/16000 [09:26<00:06, 26.15it/s]\rGenerating Data:  99%|█████████▉| 15840/16000 [09:26<00:05, 30.66it/s]\rGenerating Data:  99%|█████████▉| 15844/16000 [09:26<00:06, 25.23it/s]\rGenerating Data:  99%|█████████▉| 15849/16000 [09:26<00:05, 25.19it/s]\rGenerating Data:  99%|█████████▉| 15855/16000 [09:27<00:04, 30.42it/s]\rGenerating Data:  99%|█████████▉| 15859/16000 [09:27<00:05, 26.36it/s]\rGenerating Data:  99%|█████████▉| 15865/16000 [09:27<00:05, 26.91it/s]\rGenerating Data:  99%|█████████▉| 15870/16000 [09:27<00:04, 29.72it/s]\rGenerating Data:  99%|█████████▉| 15874/16000 [09:27<00:04, 28.29it/s]\rGenerating Data:  99%|█████████▉| 15877/16000 [09:27<00:04, 28.46it/s]\rGenerating Data:  99%|█████████▉| 15880/16000 [09:27<00:04, 26.66it/s]\rGenerating Data:  99%|█████████▉| 15885/16000 [09:28<00:03, 30.29it/s]\rGenerating Data:  99%|█████████▉| 15889/16000 [09:28<00:03, 28.28it/s]\rGenerating Data:  99%|█████████▉| 15894/16000 [09:28<00:03, 30.37it/s]\rGenerating Data:  99%|█████████▉| 15898/16000 [09:28<00:03, 29.50it/s]\rGenerating Data:  99%|█████████▉| 15901/16000 [09:28<00:03, 28.93it/s]\rGenerating Data:  99%|█████████▉| 15904/16000 [09:28<00:03, 28.43it/s]\rGenerating Data:  99%|█████████▉| 15909/16000 [09:28<00:03, 29.64it/s]\rGenerating Data:  99%|█████████▉| 15912/16000 [09:29<00:03, 27.15it/s]\rGenerating Data:  99%|█████████▉| 15917/16000 [09:29<00:02, 31.55it/s]\rGenerating Data: 100%|█████████▉| 15921/16000 [09:29<00:02, 28.16it/s]\rGenerating Data: 100%|█████████▉| 15925/16000 [09:29<00:02, 30.85it/s]\rGenerating Data: 100%|█████████▉| 15929/16000 [09:29<00:02, 29.04it/s]\rGenerating Data: 100%|█████████▉| 15933/16000 [09:29<00:02, 26.62it/s]\rGenerating Data: 100%|█████████▉| 15937/16000 [09:29<00:02, 28.15it/s]\rGenerating Data: 100%|█████████▉| 15940/16000 [09:30<00:02, 28.38it/s]\rGenerating Data: 100%|█████████▉| 15944/16000 [09:30<00:01, 29.63it/s]\rGenerating Data: 100%|█████████▉| 15948/16000 [09:30<00:01, 29.20it/s]\rGenerating Data: 100%|█████████▉| 15951/16000 [09:30<00:01, 27.80it/s]\rGenerating Data: 100%|█████████▉| 15954/16000 [09:30<00:01, 27.46it/s]\rGenerating Data: 100%|█████████▉| 15958/16000 [09:30<00:01, 28.49it/s]\rGenerating Data: 100%|█████████▉| 15961/16000 [09:30<00:01, 27.03it/s]\rGenerating Data: 100%|█████████▉| 15964/16000 [09:30<00:01, 26.00it/s]\rGenerating Data: 100%|█████████▉| 15967/16000 [09:31<00:01, 23.81it/s]\rGenerating Data: 100%|█████████▉| 15971/16000 [09:31<00:01, 21.18it/s]\rGenerating Data: 100%|█████████▉| 15977/16000 [09:31<00:00, 27.89it/s]\rGenerating Data: 100%|█████████▉| 15981/16000 [09:31<00:00, 25.35it/s]\rGenerating Data: 100%|█████████▉| 15984/16000 [09:31<00:00, 26.01it/s]\rGenerating Data: 100%|█████████▉| 15987/16000 [09:31<00:00, 23.73it/s]\rGenerating Data: 100%|█████████▉| 15990/16000 [09:31<00:00, 24.42it/s]\rGenerating Data: 100%|█████████▉| 15993/16000 [09:32<00:00, 20.00it/s]\rGenerating Data: 100%|█████████▉| 15996/16000 [09:32<00:00, 16.37it/s]\rGenerating Data: 100%|█████████▉| 15998/16000 [09:32<00:00, 12.35it/s]\rGenerating Data: 100%|██████████| 16000/16000 [09:33<00:00, 10.79it/s]\rGenerating Data: 100%|██████████| 16000/16000 [09:33<00:00, 27.92it/s]"
     ]
    },
    {
     "name": "stdout",
     "output_type": "stream",
     "text": [
      "Median latency (s): 2.189871907234192\n"
     ]
    },
    {
     "name": "stderr",
     "output_type": "stream",
     "text": [
      "\n"
     ]
    }
   ],
   "source": [
    "await main(complete_prompts, num_concurrent_calls=60)"
   ]
  },
  {
   "cell_type": "markdown",
   "metadata": {},
   "source": [
    "### Preview the Output"
   ]
  },
  {
   "cell_type": "code",
   "execution_count": null,
   "metadata": {
    "application/vnd.databricks.v1+cell": {
     "cellMetadata": {
      "byteLimit": 2048000,
      "rowLimit": 10000
     },
     "inputWidgets": {},
     "nuid": "eaac6064-4698-434f-b495-451ed8779419",
     "showTitle": false,
     "title": ""
    }
   },
   "outputs": [
    {
     "data": {
      "text/plain": [
       "[{'predictions': [{'candidates': [{'text': 'FEAR',\n",
       "      'metadata': {'finish_reason': 'stop'}}],\n",
       "    'metadata': {'input_tokens': 220,\n",
       "     'output_tokens': 3,\n",
       "     'total_tokens': 223}}]},\n",
       " {'predictions': [{'candidates': [{'text': 'LOVE',\n",
       "      'metadata': {'finish_reason': 'stop'}}],\n",
       "    'metadata': {'input_tokens': 216,\n",
       "     'output_tokens': 3,\n",
       "     'total_tokens': 219}}]},\n",
       " {'predictions': [{'candidates': [{'text': 'LOVE',\n",
       "      'metadata': {'finish_reason': 'stop'}}],\n",
       "    'metadata': {'input_tokens': 238,\n",
       "     'output_tokens': 3,\n",
       "     'total_tokens': 241}}]},\n",
       " {'predictions': [{'candidates': [{'text': 'SADNESS',\n",
       "      'metadata': {'finish_reason': 'stop'}}],\n",
       "    'metadata': {'input_tokens': 224,\n",
       "     'output_tokens': 4,\n",
       "     'total_tokens': 228}}]},\n",
       " {'predictions': [{'candidates': [{'text': 'FEELING',\n",
       "      'metadata': {'finish_reason': 'stop'}}],\n",
       "    'metadata': {'input_tokens': 216,\n",
       "     'output_tokens': 4,\n",
       "     'total_tokens': 220}}]},\n",
       " {'predictions': [{'candidates': [{'text': 'JOY',\n",
       "      'metadata': {'finish_reason': 'stop'}}],\n",
       "    'metadata': {'input_tokens': 262,\n",
       "     'output_tokens': 3,\n",
       "     'total_tokens': 265}}]},\n",
       " {'predictions': [{'candidates': [{'text': 'LOVE',\n",
       "      'metadata': {'finish_reason': 'stop'}}],\n",
       "    'metadata': {'input_tokens': 262,\n",
       "     'output_tokens': 3,\n",
       "     'total_tokens': 265}}]},\n",
       " {'predictions': [{'candidates': [{'text': 'SURPRISE',\n",
       "      'metadata': {'finish_reason': 'stop'}}],\n",
       "    'metadata': {'input_tokens': 264,\n",
       "     'output_tokens': 5,\n",
       "     'total_tokens': 269}}]},\n",
       " {'predictions': [{'candidates': [{'text': 'LOVE',\n",
       "      'metadata': {'finish_reason': 'stop'}}],\n",
       "    'metadata': {'input_tokens': 251,\n",
       "     'output_tokens': 3,\n",
       "     'total_tokens': 254}}]},\n",
       " {'predictions': [{'candidates': [{'text': 'FEAR',\n",
       "      'metadata': {'finish_reason': 'stop'}}],\n",
       "    'metadata': {'input_tokens': 211,\n",
       "     'output_tokens': 3,\n",
       "     'total_tokens': 214}}]}]"
      ]
     },
     "execution_count": 6,
     "metadata": {},
     "output_type": "execute_result"
    }
   ],
   "source": [
    "data[:10]"
   ]
  },
  {
   "cell_type": "markdown",
   "metadata": {},
   "source": [
    "## Conclusion\n",
    "\n",
    "This notebook provides a sketch of one approach to accomplish high-throughput classification with the [Provisioned Throughput Foundation Model APIs](https://docs.databricks.com/en/machine-learning/foundation-models/deploy-prov-throughput-foundation-model-apis.html)."
   ]
  }
 ],
 "metadata": {
  "application/vnd.databricks.v1+notebook": {
   "dashboards": [],
   "language": "python",
   "notebookMetadata": {
    "pythonIndentUnit": 2
   },
   "notebookName": "fast_classification_workspace_client",
   "widgets": {}
  },
  "kernelspec": {
   "display_name": "env",
   "language": "python",
   "name": "python3"
  },
  "language_info": {
   "codemirror_mode": {
    "name": "ipython",
    "version": 3
   },
   "file_extension": ".py",
   "mimetype": "text/x-python",
   "name": "python",
   "nbconvert_exporter": "python",
   "pygments_lexer": "ipython3",
   "version": "3.11.7"
  }
 },
 "nbformat": 4,
 "nbformat_minor": 0
}
