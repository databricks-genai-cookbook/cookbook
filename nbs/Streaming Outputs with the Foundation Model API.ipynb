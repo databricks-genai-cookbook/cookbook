{
 "cells": [
  {
   "cell_type": "markdown",
   "metadata": {
    "application/vnd.databricks.v1+cell": {
     "cellMetadata": {},
     "inputWidgets": {},
     "nuid": "2d0d8826-03b0-40b1-9572-a8ac4066753a",
     "showTitle": false,
     "title": ""
    }
   },
   "source": [
    "# Streaming Outputs with the Foundation Model API"
   ]
  },
  {
   "cell_type": "code",
   "execution_count": 0,
   "metadata": {
    "application/vnd.databricks.v1+cell": {
     "cellMetadata": {
      "byteLimit": 2048000,
      "rowLimit": 10000
     },
     "inputWidgets": {},
     "nuid": "9f6e8a80-f219-4ecc-a729-427014af4aab",
     "showTitle": false,
     "title": ""
    }
   },
   "outputs": [
    {
     "output_type": "stream",
     "name": "stdout",
     "output_type": "stream",
     "text": [
      "\u001B[43mNote: you may need to restart the kernel using dbutils.library.restartPython() to use updated packages.\u001B[0m\nCollecting databricks-genai-inference\n  Downloading databricks_genai_inference-0.1.3-py3-none-any.whl (15 kB)\nCollecting pydantic>=2.4.2\n  Downloading pydantic-2.5.3-py3-none-any.whl (381 kB)\n     ━━━━━━━━━━━━━━━━━━━━━━━━━━━━━━━━━━━━━━━ 381.9/381.9 kB 6.1 MB/s eta 0:00:00\nCollecting typing-extensions>=4.7.1\n  Downloading typing_extensions-4.9.0-py3-none-any.whl (32 kB)\nCollecting databricks-sdk>=0.12.0\n  Downloading databricks_sdk-0.18.0-py3-none-any.whl (439 kB)\n     ━━━━━━━━━━━━━━━━━━━━━━━━━━━━━━━━━━━━━━ 439.5/439.5 kB 14.8 MB/s eta 0:00:00\nCollecting requests<3,>=2.26.0\n  Downloading requests-2.31.0-py3-none-any.whl (62 kB)\n     ━━━━━━━━━━━━━━━━━━━━━━━━━━━━━━━━━━━━━━━━ 62.6/62.6 kB 14.4 MB/s eta 0:00:00\nCollecting pyyaml>=5.4.1\n  Downloading PyYAML-6.0.1-cp310-cp310-manylinux_2_17_x86_64.manylinux2014_x86_64.whl (705 kB)\n     ━━━━━━━━━━━━━━━━━━━━━━━━━━━━━━━━━━━━━━ 705.5/705.5 kB 14.8 MB/s eta 0:00:00\nCollecting databricks-cli>=0.17.8\n  Downloading databricks_cli-0.18.0-py2.py3-none-any.whl (150 kB)\n     ━━━━━━━━━━━━━━━━━━━━━━━━━━━━━━━━━━━━━━ 150.3/150.3 kB 13.7 MB/s eta 0:00:00\nCollecting tabulate>=0.7.7\n  Downloading tabulate-0.9.0-py3-none-any.whl (35 kB)\nCollecting click>=7.0\n  Downloading click-8.1.7-py3-none-any.whl (97 kB)\n     ━━━━━━━━━━━━━━━━━━━━━━━━━━━━━━━━━━━━━━━━ 97.9/97.9 kB 19.1 MB/s eta 0:00:00\nCollecting pyjwt>=1.7.0\n  Downloading PyJWT-2.8.0-py3-none-any.whl (22 kB)\nCollecting oauthlib>=3.1.0\n  Downloading oauthlib-3.2.2-py3-none-any.whl (151 kB)\n     ━━━━━━━━━━━━━━━━━━━━━━━━━━━━━━━━━━━━━━ 151.7/151.7 kB 30.9 MB/s eta 0:00:00\nCollecting six>=1.10.0\n  Downloading six-1.16.0-py2.py3-none-any.whl (11 kB)\nCollecting urllib3<3,>=1.26.7\n  Downloading urllib3-2.1.0-py3-none-any.whl (104 kB)\n     ━━━━━━━━━━━━━━━━━━━━━━━━━━━━━━━━━━━━━━ 104.6/104.6 kB 15.3 MB/s eta 0:00:00\nCollecting google-auth~=2.0\n  Downloading google_auth-2.27.0-py2.py3-none-any.whl (186 kB)\n     ━━━━━━━━━━━━━━━━━━━━━━━━━━━━━━━━━━━━━━ 186.8/186.8 kB 14.7 MB/s eta 0:00:00\nCollecting annotated-types>=0.4.0\n  Downloading annotated_types-0.6.0-py3-none-any.whl (12 kB)\nCollecting pydantic-core==2.14.6\n  Downloading pydantic_core-2.14.6-cp310-cp310-manylinux_2_17_x86_64.manylinux2014_x86_64.whl (2.1 MB)\n     ━━━━━━━━━━━━━━━━━━━━━━━━━━━━━━━━━━━━━━━━ 2.1/2.1 MB 22.5 MB/s eta 0:00:00\nCollecting idna<4,>=2.5\n  Downloading idna-3.6-py3-none-any.whl (61 kB)\n     ━━━━━━━━━━━━━━━━━━━━━━━━━━━━━━━━━━━━━━━━ 61.6/61.6 kB 10.7 MB/s eta 0:00:00\nCollecting certifi>=2017.4.17\n  Downloading certifi-2023.11.17-py3-none-any.whl (162 kB)\n     ━━━━━━━━━━━━━━━━━━━━━━━━━━━━━━━━━━━━━━ 162.5/162.5 kB 23.9 MB/s eta 0:00:00\nCollecting charset-normalizer<4,>=2\n  Downloading charset_normalizer-3.3.2-cp310-cp310-manylinux_2_17_x86_64.manylinux2014_x86_64.whl (142 kB)\n     ━━━━━━━━━━━━━━━━━━━━━━━━━━━━━━━━━━━━━━ 142.1/142.1 kB 27.0 MB/s eta 0:00:00\nCollecting pyasn1-modules>=0.2.1\n  Downloading pyasn1_modules-0.3.0-py2.py3-none-any.whl (181 kB)\n     ━━━━━━━━━━━━━━━━━━━━━━━━━━━━━━━━━━━━━━ 181.3/181.3 kB 13.7 MB/s eta 0:00:00\nCollecting cachetools<6.0,>=2.0.0\n  Downloading cachetools-5.3.2-py3-none-any.whl (9.3 kB)\nCollecting rsa<5,>=3.1.4\n  Downloading rsa-4.9-py3-none-any.whl (34 kB)\nCollecting pyasn1<0.6.0,>=0.4.6\n  Downloading pyasn1-0.5.1-py2.py3-none-any.whl (84 kB)\n     ━━━━━━━━━━━━━━━━━━━━━━━━━━━━━━━━━━━━━━━━ 84.9/84.9 kB 17.5 MB/s eta 0:00:00\nInstalling collected packages: urllib3, typing-extensions, tabulate, six, pyyaml, pyjwt, pyasn1, oauthlib, idna, click, charset-normalizer, certifi, cachetools, annotated-types, rsa, requests, pydantic-core, pyasn1-modules, pydantic, google-auth, databricks-cli, databricks-sdk, databricks-genai-inference\n  Attempting uninstall: urllib3\n    Found existing installation: urllib3 1.26.14\n    Not uninstalling urllib3 at /databricks/python3/lib/python3.10/site-packages, outside environment /local_disk0/.ephemeral_nfs/envs/pythonEnv-4d245d38-6cad-4883-a724-5eaa6c933793\n    Can't uninstall 'urllib3'. No files were found to uninstall.\n  Attempting uninstall: typing-extensions\n    Found existing installation: typing_extensions 4.4.0\n    Not uninstalling typing-extensions at /databricks/python3/lib/python3.10/site-packages, outside environment /local_disk0/.ephemeral_nfs/envs/pythonEnv-4d245d38-6cad-4883-a724-5eaa6c933793\n    Can't uninstall 'typing_extensions'. No files were found to uninstall.\n  Attempting uninstall: six\n    Found existing installation: six 1.16.0\n    Not uninstalling six at /usr/lib/python3/dist-packages, outside environment /local_disk0/.ephemeral_nfs/envs/pythonEnv-4d245d38-6cad-4883-a724-5eaa6c933793\n    Can't uninstall 'six'. No files were found to uninstall.\n  Attempting uninstall: pyjwt\n    Found existing installation: PyJWT 2.3.0\n    Not uninstalling pyjwt at /usr/lib/python3/dist-packages, outside environment /local_disk0/.ephemeral_nfs/envs/pythonEnv-4d245d38-6cad-4883-a724-5eaa6c933793\n    Can't uninstall 'PyJWT'. No files were found to uninstall.\n  Attempting uninstall: oauthlib\n    Found existing installation: oauthlib 3.2.0\n    Not uninstalling oauthlib at /usr/lib/python3/dist-packages, outside environment /local_disk0/.ephemeral_nfs/envs/pythonEnv-4d245d38-6cad-4883-a724-5eaa6c933793\n    Can't uninstall 'oauthlib'. No files were found to uninstall.\n  Attempting uninstall: idna\n    Found existing installation: idna 3.4\n    Not uninstalling idna at /databricks/python3/lib/python3.10/site-packages, outside environment /local_disk0/.ephemeral_nfs/envs/pythonEnv-4d245d38-6cad-4883-a724-5eaa6c933793\n    Can't uninstall 'idna'. No files were found to uninstall.\n  Attempting uninstall: click\n    Found existing installation: click 8.0.4\n    Not uninstalling click at /databricks/python3/lib/python3.10/site-packages, outside environment /local_disk0/.ephemeral_nfs/envs/pythonEnv-4d245d38-6cad-4883-a724-5eaa6c933793\n    Can't uninstall 'click'. No files were found to uninstall.\n  Attempting uninstall: charset-normalizer\n    Found existing installation: charset-normalizer 2.0.4\n    Not uninstalling charset-normalizer at /databricks/python3/lib/python3.10/site-packages, outside environment /local_disk0/.ephemeral_nfs/envs/pythonEnv-4d245d38-6cad-4883-a724-5eaa6c933793\n    Can't uninstall 'charset-normalizer'. No files were found to uninstall.\n  Attempting uninstall: certifi\n    Found existing installation: certifi 2022.12.7\n    Not uninstalling certifi at /databricks/python3/lib/python3.10/site-packages, outside environment /local_disk0/.ephemeral_nfs/envs/pythonEnv-4d245d38-6cad-4883-a724-5eaa6c933793\n    Can't uninstall 'certifi'. No files were found to uninstall.\n  Attempting uninstall: requests\n    Found existing installation: requests 2.28.1\n    Not uninstalling requests at /databricks/python3/lib/python3.10/site-packages, outside environment /local_disk0/.ephemeral_nfs/envs/pythonEnv-4d245d38-6cad-4883-a724-5eaa6c933793\n    Can't uninstall 'requests'. No files were found to uninstall.\n  Attempting uninstall: pydantic\n    Found existing installation: pydantic 1.10.6\n    Not uninstalling pydantic at /databricks/python3/lib/python3.10/site-packages, outside environment /local_disk0/.ephemeral_nfs/envs/pythonEnv-4d245d38-6cad-4883-a724-5eaa6c933793\n    Can't uninstall 'pydantic'. No files were found to uninstall.\n  Attempting uninstall: databricks-sdk\n    Found existing installation: databricks-sdk 0.1.6\n    Not uninstalling databricks-sdk at /databricks/python3/lib/python3.10/site-packages, outside environment /local_disk0/.ephemeral_nfs/envs/pythonEnv-4d245d38-6cad-4883-a724-5eaa6c933793\n    Can't uninstall 'databricks-sdk'. No files were found to uninstall.\nERROR: pip's dependency resolver does not currently take into account all the packages that are installed. This behaviour is the source of the following dependency conflicts.\nbotocore 1.27.96 requires urllib3<1.27,>=1.25.4, but you have urllib3 2.1.0 which is incompatible.\nSuccessfully installed annotated-types-0.6.0 cachetools-5.3.2 certifi-2023.11.17 charset-normalizer-3.3.2 click-8.1.7 databricks-cli-0.18.0 databricks-genai-inference-0.1.3 databricks-sdk-0.18.0 google-auth-2.27.0 idna-3.6 oauthlib-3.2.2 pyasn1-0.5.1 pyasn1-modules-0.3.0 pydantic-2.5.3 pydantic-core-2.14.6 pyjwt-2.8.0 pyyaml-6.0.1 requests-2.31.0 rsa-4.9 six-1.16.0 tabulate-0.9.0 typing-extensions-4.9.0 urllib3-2.1.0\n\u001B[43mNote: you may need to restart the kernel using dbutils.library.restartPython() to use updated packages.\u001B[0m\n"
     ]
    }
   ],
   "source": [
    "%pip install --upgrade --force-reinstall databricks-genai-inference\n",
    "dbutils.library.restartPython()"
   ]
  },
  {
   "cell_type": "code",
   "execution_count": 0,
   "metadata": {
    "application/vnd.databricks.v1+cell": {
     "cellMetadata": {
      "byteLimit": 2048000,
      "rowLimit": 10000
     },
     "inputWidgets": {},
     "nuid": "67b0db98-0f08-413c-841b-85b0f709ab56",
     "showTitle": false,
     "title": ""
    }
   },
   "outputs": [],
   "source": [
    "from databricks_genai_inference import ChatCompletion\n",
    "\n",
    "def stream_reply(model, user_message, max_tokens=2048):\n",
    "    messages = [{\"role\": \"user\", \"content\": user_message}]\n",
    "    generator = ChatCompletion.create(\n",
    "        model=model,\n",
    "        max_tokens=max_tokens,\n",
    "        stream=True,\n",
    "        messages=messages,\n",
    "    )\n",
    "\n",
    "    for response in generator:\n",
    "        # Using `end=''` to avoid adding a new line after each print statement\n",
    "        print(response.message, end='')\n"
   ]
  },
  {
   "cell_type": "code",
   "execution_count": 0,
   "metadata": {
    "application/vnd.databricks.v1+cell": {
     "cellMetadata": {
      "byteLimit": 2048000,
      "rowLimit": 10000
     },
     "inputWidgets": {},
     "nuid": "76aec8ba-cc85-4e47-864b-38a50a0000ce",
     "showTitle": false,
     "title": ""
    }
   },
   "outputs": [
    {
     "output_type": "stream",
     "name": "stdout",
     "output_type": "stream",
     "text": [
      "1. Gather ingredients:\n   - 1 cup unsalted butter (melted)\n   - 1 cup white sugar\n   - 1 cup packed brown sugar\n   - 2 eggs\n   - 2 teaspoons vanilla extract\n   - 3 cups all-purpose flour\n   - 1 teaspoon baking soda\n   - 2 teaspoons hot water\n   - 1/2 teaspoon salt\n   - 2 cups semisweet chocolate chips\n   - 1 cup chopped walnuts (optional)\n\n2. Preheat your oven to 350 degrees F (175 degrees C).\n\n3. In a large bowl, mix together the melted butter, white sugar, and brown sugar until smooth.\n\n4. Beat in the eggs one at a time, then stir in the vanilla extract.\n\n5. Dissolve baking soda in hot water and add to the batter along with the salt.\n\n6. Gradually stir in the flour, chocolate chips, and nuts (if using).\n\n7. Drop by large spoonfuls onto ungreased pans.\n\n8. Bake for about 10 minutes in the preheated oven, or until edges are nicely browned.\n\nTips for success:\n\n- Do not overmix the dough as it can make the cookies tough.\n- Use good quality chocolate chips for better flavor.\n- For a chewy cookie, slightly underbake them.\n- For a crispier cookie, bake them a little longer.\n- Let the cookies cool on the baking sheet for a few minutes before transferring them to a wire rack to cool completely.\n- Store cookies in an airtight container to keep them fresh.\n\nRemember, this is a basic recipe and you can always add your own twist by adding different types of nuts, dried fruits, or even orange zest. Enjoy your baking!"
     ]
    }
   ],
   "source": [
    "stream_reply(model=\"mixtral-8x7b-instruct\", user_message=\"Tell me in great detail how to make chocolate chip cookies.\")"
   ]
  },
  {
   "cell_type": "code",
   "execution_count": 0,
   "metadata": {
    "application/vnd.databricks.v1+cell": {
     "cellMetadata": {},
     "inputWidgets": {},
     "nuid": "a5f48a22-0228-41a8-b2cc-f96ddac874d4",
     "showTitle": false,
     "title": ""
    }
   },
   "outputs": [],
   "source": []
  }
 ],
 "metadata": {
  "application/vnd.databricks.v1+notebook": {
   "dashboards": [],
   "language": "python",
   "notebookMetadata": {
    "pythonIndentUnit": 4
   },
   "notebookName": "Streaming Outputs with the Foundation Model API",
   "widgets": {}
  }
 },
 "nbformat": 4,
 "nbformat_minor": 0
}
